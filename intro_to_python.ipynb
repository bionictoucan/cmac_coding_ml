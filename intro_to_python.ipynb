{
 "cells": [
  {
   "cell_type": "markdown",
   "id": "b60a386f-4828-482e-942a-f20b81b12d51",
   "metadata": {
    "tags": []
   },
   "source": [
    "# Introduction to Python\n",
    "\n",
    "The following Jupyter notebook will give an introduction to Python coding including troubleshooting, use of if statements and for loops, reading data into Python, manipulating and plotting data as well as how to display data in Jupyter Lab."
   ]
  },
  {
   "cell_type": "markdown",
   "id": "f5231882-e0c6-4cfa-9fd8-da172aca598e",
   "metadata": {
    "tags": []
   },
   "source": [
    "## Exercise 1: `range`\n",
    "\n",
    "This first exercise will demonstrate the usage of the built-in Python function `range`. `range` is useful for generating iterators of numbers which can be used in for loops. The syntax for `range` is as follows: `range(start, stop, step)` where \n",
    "\n",
    "* start is the number to start at,\n",
    "* stop is the number to stop at + 1 and\n",
    "* step is how to count between the two numbers.\n",
    "\n",
    "e.g. `range(1, 4, 1)` will return a range object (not quite a list as we'll see below) starting at 1, ending at 3 and incrementing the number 1 at a time &mdash; essentially providing the number 1, 2, 3.\n",
    "\n",
    "Notes:\n",
    "\n",
    "* `range` can be used without the step e.g. `range(1,4)` where the code will assume that the step is 1\n",
    "* if a start number is not provided to `range` then the range will start from zero e.g. `range(4)` provides the numbers 0 to 3.\n",
    "\n",
    "### Part 1: Converting a `range` to a `list`\n",
    "\n",
    "The first part of the exercise is to change a `range` object to a `list`. Then print both the `range` and the `list` to see the difference."
   ]
  },
  {
   "cell_type": "code",
   "execution_count": null,
   "id": "ca41f8b7-3297-422a-9d85-6c7e6ba20f1d",
   "metadata": {
    "tags": []
   },
   "outputs": [],
   "source": [
    "a = range(4)\n",
    "b = ?"
   ]
  },
  {
   "cell_type": "markdown",
   "id": "c8fb36da-943a-461c-9b3b-b0bb9f5d22bc",
   "metadata": {},
   "source": [
    "### Part 2: Printing `range` values in a `for` loop\n",
    "\n",
    "`range` objects can be the iterator in `for` loops just like a `list` can be. Iterate over the range from Part 1 and print each value plus 2."
   ]
  },
  {
   "cell_type": "code",
   "execution_count": null,
   "id": "a85a0dee-4e4e-4f70-9dc7-46da9c1fb040",
   "metadata": {},
   "outputs": [],
   "source": []
  },
  {
   "cell_type": "markdown",
   "id": "2abfcd6f-11e1-433c-a567-38392b64e9c1",
   "metadata": {},
   "source": [
    "## Exercise 2: `enumerate`\n",
    "\n",
    "Another very useful built-in function in Python is `enumerate`. This can be thought of as combining the `range` function and a list we wish to loop over. Consider a case where you need access to the items in a list but also the order at which they are in the list &mdash; this is where `enumerate` comes in handy. The syntax is as follows\n",
    "\n",
    "```\n",
    "for i, x in enumerate(some_list):\n",
    "    do some code\n",
    "```\n",
    "\n",
    "`enumerate` implicitly generates a `range` object that has the same number of elements as your list where the `range` spans from 0 to the number of elements in your list - 1. Then when implementing in a `for` loop, rather than just extracting the items in the list one at a time, the enumerate will give the user access to the item from the list **and** the order with which it is in the list.\n",
    "\n",
    "In the example above, `i` is used as the dummy variable for the position in the list and `x` is used as the dummy variable for the item from the list."
   ]
  },
  {
   "cell_type": "markdown",
   "id": "642eeb16-6210-4e55-9200-738701f57e27",
   "metadata": {},
   "source": [
    "### Part 1: `enumerate` a list\n",
    "\n",
    "Using the list from Part 1 of Exercise 1, create a `for` loop over an `enumerate` printing out the position of each element in the list and the item at each position."
   ]
  },
  {
   "cell_type": "code",
   "execution_count": null,
   "id": "85a1bac3-2282-4049-808e-a426ce0adae3",
   "metadata": {},
   "outputs": [],
   "source": []
  },
  {
   "cell_type": "markdown",
   "id": "a94a24bb-7e75-4d28-842b-67794058c98e",
   "metadata": {},
   "source": [
    "### Part 2: `enumerate` and `if` statements in a `for` loop\n",
    "\n",
    "Using an `if` statement inside of the `for` loop constructed for Part 1, print the 3rd position and item of the list."
   ]
  },
  {
   "cell_type": "code",
   "execution_count": null,
   "id": "0e21d690-9a39-47b5-98a5-a0fe45c98381",
   "metadata": {},
   "outputs": [],
   "source": []
  },
  {
   "cell_type": "markdown",
   "id": "3d2cff9a-d686-4bee-8f3e-db591b4506eb",
   "metadata": {},
   "source": [
    "## Exercise 3: List Comprehension\n",
    "\n",
    "List comprehension is a useful shorthand in Python for constructing a list of objects based on an existing list of objects. This combines the logic of `for` loops and `if` statements to be written in one line of code rather than writing the code longform. Consider the following example involving a list of acids and alcohols:"
   ]
  },
  {
   "cell_type": "code",
   "execution_count": 3,
   "id": "60398e6c-99ac-4a95-9118-dd9ecf3cd4ab",
   "metadata": {},
   "outputs": [],
   "source": [
    "acids_and_alcohols = [\"methanoic acid\", \"deoxyribonucleic acid\", \"mefenamic acid\", \"hexadecanol\", \"propane-1,2,3-triol\", \"5-methyl-2-(propan-2-yl)cyclohexan-1-ol\"]"
   ]
  },
  {
   "cell_type": "code",
   "execution_count": 4,
   "id": "0428c53e-1e47-42ff-be39-b7d86f309d7e",
   "metadata": {},
   "outputs": [
    {
     "name": "stdout",
     "output_type": "stream",
     "text": [
      "['methanoic acid', 'deoxyribonucleic acid', 'mefenamic acid', 'hexadecanol', 'propane-1,2,3-triol', '5-methyl-2-(propan-2-yl)cyclohexan-1-ol']\n"
     ]
    }
   ],
   "source": [
    "print(acids_and_alcohols)"
   ]
  },
  {
   "cell_type": "markdown",
   "id": "cec14028-e671-4abb-b4b7-5fb1fefd71bd",
   "metadata": {},
   "source": [
    "This list contains 3 acids and 3 alcohols (none of the good kinds). Now consider we want to extract the the acids from this list. There are two ways to do this:\n",
    "\n",
    "1. Long form code"
   ]
  },
  {
   "cell_type": "code",
   "execution_count": 6,
   "id": "be5a7bca-97f0-4adb-8bef-fa95caa39e31",
   "metadata": {},
   "outputs": [
    {
     "name": "stdout",
     "output_type": "stream",
     "text": [
      "['methanoic acid', 'deoxyribonucleic acid', 'mefenamic acid']\n"
     ]
    }
   ],
   "source": [
    "acids = []\n",
    "\n",
    "for chemical in acids_and_alcohols:\n",
    "    if \"acid\" in chemical:\n",
    "        acids.append(chemical)\n",
    "        \n",
    "print(acids)"
   ]
  },
  {
   "cell_type": "markdown",
   "id": "219dd9a9-7ef5-4e3a-b36b-fe1430a0b4fe",
   "metadata": {},
   "source": [
    "2. List Comprehension"
   ]
  },
  {
   "cell_type": "code",
   "execution_count": 7,
   "id": "71c47f19-bdde-46cc-8ce5-f93b4e412f10",
   "metadata": {},
   "outputs": [
    {
     "name": "stdout",
     "output_type": "stream",
     "text": [
      "['methanoic acid', 'deoxyribonucleic acid', 'mefenamic acid']\n"
     ]
    }
   ],
   "source": [
    "acids = [chemical for chemical in acids_and_alcohols if \"acid\" in chemical]\n",
    "print(acids)"
   ]
  },
  {
   "cell_type": "markdown",
   "id": "a04d687b-139c-4881-9f05-2dd814d8113f",
   "metadata": {},
   "source": [
    "Both codes functionally do the exact same operations with a conditional `if` statement inside of a `for` loop populating an originally empty list but the list comphresenion is less lines of code (it's a whole readability vs. conciseness thing, use whichever one you prefer but it's good to know both exist!).\n",
    "\n",
    "Now do the same but generating a list containing only the alcohols: i.e. write out the long form code for producing a list of the alcohols and then the list comprehension doing the same thing."
   ]
  },
  {
   "cell_type": "code",
   "execution_count": null,
   "id": "5df1598a-f286-45dc-923f-6fbe526ca743",
   "metadata": {},
   "outputs": [],
   "source": []
  }
 ],
 "metadata": {
  "kernelspec": {
   "display_name": "Python 3 (ipykernel)",
   "language": "python",
   "name": "python3"
  },
  "language_info": {
   "codemirror_mode": {
    "name": "ipython",
    "version": 3
   },
   "file_extension": ".py",
   "mimetype": "text/x-python",
   "name": "python",
   "nbconvert_exporter": "python",
   "pygments_lexer": "ipython3",
   "version": "3.9.12"
  }
 },
 "nbformat": 4,
 "nbformat_minor": 5
}
