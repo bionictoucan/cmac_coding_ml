{
 "cells": [
  {
   "cell_type": "markdown",
   "id": "f5413621-22fb-49ff-b994-9c0f38e9a982",
   "metadata": {},
   "source": [
    "# Solubility Prediction from Molecular Descriptors\n",
    "\n",
    "The following notebook builds upon the dataset introduced and explore in the `data_analysis.ipynb` IPython notebook. Specifically, we load our created data file into this notebook, prepare it for use by two different machine learning algorithms &mdash; random forest and neural network &mdash; and train these two models to find the best model for predicting solubility.\n",
    "\n",
    "As always, we start by importing the relevant Python packages."
   ]
  },
  {
   "cell_type": "code",
   "execution_count": 1,
   "id": "56633c7d-9185-434b-92f4-7ca23b663179",
   "metadata": {},
   "outputs": [],
   "source": [
    "import numpy as np\n",
    "import matplotlib.pyplot as plt\n",
    "import pandas as pd\n",
    "from sklearn.preprocessing import StandardScaler\n",
    "from sklearn.ensemble import RandomForestRegressor\n",
    "from sklearn.neural_network import MLPRegressor\n",
    "from sklearn.model_selection import KFold, cross_validate, train_test_split\n",
    "from sklearn.pipeline import make_pipeline"
   ]
  },
  {
   "cell_type": "markdown",
   "id": "cb1f774b-4a45-46b1-ac83-8c08368cfb5a",
   "metadata": {},
   "source": [
    "## Data Loading, Splitting and Standardisation\n",
    "\n",
    "The data can be loaded in a similar fashion to the single files in the previous notebook. Note, however, that if you saved the file in the previous notebook as an Excel document then you need to use the `pd.read_excel` function as opposed to the `pd.read_csv` function.\n",
    "\n",
    "### Excercise 1: Loading Data\n",
    "\n",
    "Load the dataset curated during the `data_analysis.ipynb` IPython notebook into a Pandas `DataFrame` and check it is the right data."
   ]
  },
  {
   "cell_type": "code",
   "execution_count": 2,
   "id": "85328d54-3e60-4d57-b4b6-3a2825b359da",
   "metadata": {},
   "outputs": [],
   "source": [
    "df = pd.read_excel(\"solubility.xlsx\")"
   ]
  },
  {
   "cell_type": "code",
   "execution_count": 3,
   "id": "ef404952-a5f2-4f5d-8eda-d50ce3864a52",
   "metadata": {},
   "outputs": [
    {
     "data": {
      "text/html": [
       "<div>\n",
       "<style scoped>\n",
       "    .dataframe tbody tr th:only-of-type {\n",
       "        vertical-align: middle;\n",
       "    }\n",
       "\n",
       "    .dataframe tbody tr th {\n",
       "        vertical-align: top;\n",
       "    }\n",
       "\n",
       "    .dataframe thead th {\n",
       "        text-align: right;\n",
       "    }\n",
       "</style>\n",
       "<table border=\"1\" class=\"dataframe\">\n",
       "  <thead>\n",
       "    <tr style=\"text-align: right;\">\n",
       "      <th></th>\n",
       "      <th>solvent_name</th>\n",
       "      <th>solute_name</th>\n",
       "      <th>solubility_g_100g</th>\n",
       "      <th>solute_a_nC</th>\n",
       "      <th>solute_a_nN</th>\n",
       "      <th>solute_a_nO</th>\n",
       "      <th>solute_b_heavy</th>\n",
       "      <th>solute_b_rotN</th>\n",
       "      <th>solute_lip_acc</th>\n",
       "      <th>solute_lip_don</th>\n",
       "      <th>...</th>\n",
       "      <th>solute_TPSA</th>\n",
       "      <th>solvent_a_nC</th>\n",
       "      <th>solvent_a_nN</th>\n",
       "      <th>solvent_a_nO</th>\n",
       "      <th>solvent_b_heavy</th>\n",
       "      <th>solvent_b_rotN</th>\n",
       "      <th>solvent_lip_acc</th>\n",
       "      <th>solvent_lip_don</th>\n",
       "      <th>solvent_rings</th>\n",
       "      <th>solvent_TPSA</th>\n",
       "    </tr>\n",
       "  </thead>\n",
       "  <tbody>\n",
       "    <tr>\n",
       "      <th>0</th>\n",
       "      <td>1-Propanol</td>\n",
       "      <td>(2R,3R,4R,5S)-hexane-1,2,3,4,5,6-hexol</td>\n",
       "      <td>0.375750</td>\n",
       "      <td>6</td>\n",
       "      <td>0</td>\n",
       "      <td>6</td>\n",
       "      <td>11</td>\n",
       "      <td>5</td>\n",
       "      <td>6</td>\n",
       "      <td>6</td>\n",
       "      <td>...</td>\n",
       "      <td>121.38</td>\n",
       "      <td>3</td>\n",
       "      <td>0</td>\n",
       "      <td>1</td>\n",
       "      <td>3</td>\n",
       "      <td>1</td>\n",
       "      <td>1</td>\n",
       "      <td>1</td>\n",
       "      <td>0</td>\n",
       "      <td>20.230000</td>\n",
       "    </tr>\n",
       "    <tr>\n",
       "      <th>1</th>\n",
       "      <td>Acetone</td>\n",
       "      <td>(2R,3R,4R,5S)-hexane-1,2,3,4,5,6-hexol</td>\n",
       "      <td>0.119860</td>\n",
       "      <td>6</td>\n",
       "      <td>0</td>\n",
       "      <td>6</td>\n",
       "      <td>11</td>\n",
       "      <td>5</td>\n",
       "      <td>6</td>\n",
       "      <td>6</td>\n",
       "      <td>...</td>\n",
       "      <td>121.38</td>\n",
       "      <td>3</td>\n",
       "      <td>0</td>\n",
       "      <td>1</td>\n",
       "      <td>3</td>\n",
       "      <td>0</td>\n",
       "      <td>1</td>\n",
       "      <td>0</td>\n",
       "      <td>0</td>\n",
       "      <td>17.070000</td>\n",
       "    </tr>\n",
       "    <tr>\n",
       "      <th>2</th>\n",
       "      <td>1-Butanol</td>\n",
       "      <td>(2R,3R,4R,5S)-hexane-1,2,3,4,5,6-hexol</td>\n",
       "      <td>0.220160</td>\n",
       "      <td>6</td>\n",
       "      <td>0</td>\n",
       "      <td>6</td>\n",
       "      <td>11</td>\n",
       "      <td>5</td>\n",
       "      <td>6</td>\n",
       "      <td>6</td>\n",
       "      <td>...</td>\n",
       "      <td>121.38</td>\n",
       "      <td>4</td>\n",
       "      <td>0</td>\n",
       "      <td>1</td>\n",
       "      <td>4</td>\n",
       "      <td>2</td>\n",
       "      <td>1</td>\n",
       "      <td>1</td>\n",
       "      <td>0</td>\n",
       "      <td>20.230000</td>\n",
       "    </tr>\n",
       "    <tr>\n",
       "      <th>3</th>\n",
       "      <td>Acetonitrile</td>\n",
       "      <td>(2R,3R,4R,5S)-hexane-1,2,3,4,5,6-hexol</td>\n",
       "      <td>0.092300</td>\n",
       "      <td>6</td>\n",
       "      <td>0</td>\n",
       "      <td>6</td>\n",
       "      <td>11</td>\n",
       "      <td>5</td>\n",
       "      <td>6</td>\n",
       "      <td>6</td>\n",
       "      <td>...</td>\n",
       "      <td>121.38</td>\n",
       "      <td>2</td>\n",
       "      <td>1</td>\n",
       "      <td>0</td>\n",
       "      <td>2</td>\n",
       "      <td>0</td>\n",
       "      <td>1</td>\n",
       "      <td>0</td>\n",
       "      <td>0</td>\n",
       "      <td>23.790001</td>\n",
       "    </tr>\n",
       "    <tr>\n",
       "      <th>4</th>\n",
       "      <td>Methanol</td>\n",
       "      <td>(2R,3R,4R,5S)-hexane-1,2,3,4,5,6-hexol</td>\n",
       "      <td>3.347240</td>\n",
       "      <td>6</td>\n",
       "      <td>0</td>\n",
       "      <td>6</td>\n",
       "      <td>11</td>\n",
       "      <td>5</td>\n",
       "      <td>6</td>\n",
       "      <td>6</td>\n",
       "      <td>...</td>\n",
       "      <td>121.38</td>\n",
       "      <td>1</td>\n",
       "      <td>0</td>\n",
       "      <td>1</td>\n",
       "      <td>1</td>\n",
       "      <td>0</td>\n",
       "      <td>1</td>\n",
       "      <td>1</td>\n",
       "      <td>0</td>\n",
       "      <td>20.230000</td>\n",
       "    </tr>\n",
       "    <tr>\n",
       "      <th>...</th>\n",
       "      <td>...</td>\n",
       "      <td>...</td>\n",
       "      <td>...</td>\n",
       "      <td>...</td>\n",
       "      <td>...</td>\n",
       "      <td>...</td>\n",
       "      <td>...</td>\n",
       "      <td>...</td>\n",
       "      <td>...</td>\n",
       "      <td>...</td>\n",
       "      <td>...</td>\n",
       "      <td>...</td>\n",
       "      <td>...</td>\n",
       "      <td>...</td>\n",
       "      <td>...</td>\n",
       "      <td>...</td>\n",
       "      <td>...</td>\n",
       "      <td>...</td>\n",
       "      <td>...</td>\n",
       "      <td>...</td>\n",
       "      <td>...</td>\n",
       "    </tr>\n",
       "    <tr>\n",
       "      <th>628</th>\n",
       "      <td>1-Butanol</td>\n",
       "      <td>trimethoprim</td>\n",
       "      <td>0.248834</td>\n",
       "      <td>14</td>\n",
       "      <td>4</td>\n",
       "      <td>3</td>\n",
       "      <td>22</td>\n",
       "      <td>5</td>\n",
       "      <td>7</td>\n",
       "      <td>4</td>\n",
       "      <td>...</td>\n",
       "      <td>105.51</td>\n",
       "      <td>4</td>\n",
       "      <td>0</td>\n",
       "      <td>1</td>\n",
       "      <td>4</td>\n",
       "      <td>2</td>\n",
       "      <td>1</td>\n",
       "      <td>1</td>\n",
       "      <td>0</td>\n",
       "      <td>20.230000</td>\n",
       "    </tr>\n",
       "    <tr>\n",
       "      <th>629</th>\n",
       "      <td>2-Butanol</td>\n",
       "      <td>trimethoprim</td>\n",
       "      <td>0.220364</td>\n",
       "      <td>14</td>\n",
       "      <td>4</td>\n",
       "      <td>3</td>\n",
       "      <td>22</td>\n",
       "      <td>5</td>\n",
       "      <td>7</td>\n",
       "      <td>4</td>\n",
       "      <td>...</td>\n",
       "      <td>105.51</td>\n",
       "      <td>4</td>\n",
       "      <td>0</td>\n",
       "      <td>1</td>\n",
       "      <td>4</td>\n",
       "      <td>1</td>\n",
       "      <td>1</td>\n",
       "      <td>1</td>\n",
       "      <td>0</td>\n",
       "      <td>20.230000</td>\n",
       "    </tr>\n",
       "    <tr>\n",
       "      <th>630</th>\n",
       "      <td>Methanol</td>\n",
       "      <td>trimethoprim</td>\n",
       "      <td>1.568378</td>\n",
       "      <td>14</td>\n",
       "      <td>4</td>\n",
       "      <td>3</td>\n",
       "      <td>22</td>\n",
       "      <td>5</td>\n",
       "      <td>7</td>\n",
       "      <td>4</td>\n",
       "      <td>...</td>\n",
       "      <td>105.51</td>\n",
       "      <td>1</td>\n",
       "      <td>0</td>\n",
       "      <td>1</td>\n",
       "      <td>1</td>\n",
       "      <td>0</td>\n",
       "      <td>1</td>\n",
       "      <td>1</td>\n",
       "      <td>0</td>\n",
       "      <td>20.230000</td>\n",
       "    </tr>\n",
       "    <tr>\n",
       "      <th>631</th>\n",
       "      <td>Tetrahydrofuran</td>\n",
       "      <td>trimethoprim</td>\n",
       "      <td>0.472030</td>\n",
       "      <td>14</td>\n",
       "      <td>4</td>\n",
       "      <td>3</td>\n",
       "      <td>22</td>\n",
       "      <td>5</td>\n",
       "      <td>7</td>\n",
       "      <td>4</td>\n",
       "      <td>...</td>\n",
       "      <td>105.51</td>\n",
       "      <td>4</td>\n",
       "      <td>0</td>\n",
       "      <td>1</td>\n",
       "      <td>5</td>\n",
       "      <td>0</td>\n",
       "      <td>1</td>\n",
       "      <td>0</td>\n",
       "      <td>1</td>\n",
       "      <td>9.229999</td>\n",
       "    </tr>\n",
       "    <tr>\n",
       "      <th>632</th>\n",
       "      <td>1-Pentanol</td>\n",
       "      <td>trimethoprim</td>\n",
       "      <td>0.223188</td>\n",
       "      <td>14</td>\n",
       "      <td>4</td>\n",
       "      <td>3</td>\n",
       "      <td>22</td>\n",
       "      <td>5</td>\n",
       "      <td>7</td>\n",
       "      <td>4</td>\n",
       "      <td>...</td>\n",
       "      <td>105.51</td>\n",
       "      <td>5</td>\n",
       "      <td>0</td>\n",
       "      <td>1</td>\n",
       "      <td>5</td>\n",
       "      <td>3</td>\n",
       "      <td>1</td>\n",
       "      <td>1</td>\n",
       "      <td>0</td>\n",
       "      <td>20.230000</td>\n",
       "    </tr>\n",
       "  </tbody>\n",
       "</table>\n",
       "<p>633 rows × 21 columns</p>\n",
       "</div>"
      ],
      "text/plain": [
       "        solvent_name                             solute_name  \\\n",
       "0         1-Propanol  (2R,3R,4R,5S)-hexane-1,2,3,4,5,6-hexol   \n",
       "1            Acetone  (2R,3R,4R,5S)-hexane-1,2,3,4,5,6-hexol   \n",
       "2          1-Butanol  (2R,3R,4R,5S)-hexane-1,2,3,4,5,6-hexol   \n",
       "3       Acetonitrile  (2R,3R,4R,5S)-hexane-1,2,3,4,5,6-hexol   \n",
       "4           Methanol  (2R,3R,4R,5S)-hexane-1,2,3,4,5,6-hexol   \n",
       "..               ...                                     ...   \n",
       "628        1-Butanol                            trimethoprim   \n",
       "629        2-Butanol                            trimethoprim   \n",
       "630         Methanol                            trimethoprim   \n",
       "631  Tetrahydrofuran                            trimethoprim   \n",
       "632       1-Pentanol                            trimethoprim   \n",
       "\n",
       "     solubility_g_100g  solute_a_nC  solute_a_nN  solute_a_nO  solute_b_heavy  \\\n",
       "0             0.375750            6            0            6              11   \n",
       "1             0.119860            6            0            6              11   \n",
       "2             0.220160            6            0            6              11   \n",
       "3             0.092300            6            0            6              11   \n",
       "4             3.347240            6            0            6              11   \n",
       "..                 ...          ...          ...          ...             ...   \n",
       "628           0.248834           14            4            3              22   \n",
       "629           0.220364           14            4            3              22   \n",
       "630           1.568378           14            4            3              22   \n",
       "631           0.472030           14            4            3              22   \n",
       "632           0.223188           14            4            3              22   \n",
       "\n",
       "     solute_b_rotN  solute_lip_acc  solute_lip_don  ...  solute_TPSA  \\\n",
       "0                5               6               6  ...       121.38   \n",
       "1                5               6               6  ...       121.38   \n",
       "2                5               6               6  ...       121.38   \n",
       "3                5               6               6  ...       121.38   \n",
       "4                5               6               6  ...       121.38   \n",
       "..             ...             ...             ...  ...          ...   \n",
       "628              5               7               4  ...       105.51   \n",
       "629              5               7               4  ...       105.51   \n",
       "630              5               7               4  ...       105.51   \n",
       "631              5               7               4  ...       105.51   \n",
       "632              5               7               4  ...       105.51   \n",
       "\n",
       "     solvent_a_nC  solvent_a_nN  solvent_a_nO  solvent_b_heavy  \\\n",
       "0               3             0             1                3   \n",
       "1               3             0             1                3   \n",
       "2               4             0             1                4   \n",
       "3               2             1             0                2   \n",
       "4               1             0             1                1   \n",
       "..            ...           ...           ...              ...   \n",
       "628             4             0             1                4   \n",
       "629             4             0             1                4   \n",
       "630             1             0             1                1   \n",
       "631             4             0             1                5   \n",
       "632             5             0             1                5   \n",
       "\n",
       "     solvent_b_rotN  solvent_lip_acc  solvent_lip_don  solvent_rings  \\\n",
       "0                 1                1                1              0   \n",
       "1                 0                1                0              0   \n",
       "2                 2                1                1              0   \n",
       "3                 0                1                0              0   \n",
       "4                 0                1                1              0   \n",
       "..              ...              ...              ...            ...   \n",
       "628               2                1                1              0   \n",
       "629               1                1                1              0   \n",
       "630               0                1                1              0   \n",
       "631               0                1                0              1   \n",
       "632               3                1                1              0   \n",
       "\n",
       "     solvent_TPSA  \n",
       "0       20.230000  \n",
       "1       17.070000  \n",
       "2       20.230000  \n",
       "3       23.790001  \n",
       "4       20.230000  \n",
       "..            ...  \n",
       "628     20.230000  \n",
       "629     20.230000  \n",
       "630     20.230000  \n",
       "631      9.229999  \n",
       "632     20.230000  \n",
       "\n",
       "[633 rows x 21 columns]"
      ]
     },
     "execution_count": 3,
     "metadata": {},
     "output_type": "execute_result"
    }
   ],
   "source": [
    "df"
   ]
  },
  {
   "cell_type": "markdown",
   "id": "475b8644-ebcf-4249-a413-03629b76911b",
   "metadata": {},
   "source": [
    "The relevant data must now be extracted to be used when training and testing the models. This will be accomplished in two steps:\n",
    "\n",
    "1. Extracting the data from the `DataFrame`\n",
    "2. Splitting this data into a training and testing dataset\n",
    "\n",
    "### Exercise 2: Extracting the Data from the `DataFrame`\n",
    "\n",
    "We must extract what we want to be the inputs and the outputs to the ML model from the `DataFrame`. This can be achieved by creating two subsets of the `DataFrame` (as done before in the `data_analysis.ipynb` notebook) one containing only the inputs and one the outputs.\n",
    "\n",
    "Create two variables `X` and `y` where `X` will represent the input to the models and `y` will represent the output to the models.\n",
    "\n",
    "Hint: you can define a list of all the features you want to use in your model and use that when splitting up the `DataFrame` e.g. [here](https://www.ritchieng.com/pandas-scikit-learn/)."
   ]
  },
  {
   "cell_type": "code",
   "execution_count": 4,
   "id": "c5d509a7-a26c-45e8-a775-bab8cca081da",
   "metadata": {},
   "outputs": [],
   "source": [
    "feature_columns = df.columns[3:]"
   ]
  },
  {
   "cell_type": "code",
   "execution_count": 5,
   "id": "a52320a8-3e41-499d-a968-fce185c25097",
   "metadata": {},
   "outputs": [
    {
     "data": {
      "text/plain": [
       "Index(['solute_a_nC', 'solute_a_nN', 'solute_a_nO', 'solute_b_heavy',\n",
       "       'solute_b_rotN', 'solute_lip_acc', 'solute_lip_don', 'solute_rings',\n",
       "       'solute_TPSA', 'solvent_a_nC', 'solvent_a_nN', 'solvent_a_nO',\n",
       "       'solvent_b_heavy', 'solvent_b_rotN', 'solvent_lip_acc',\n",
       "       'solvent_lip_don', 'solvent_rings', 'solvent_TPSA'],\n",
       "      dtype='object')"
      ]
     },
     "execution_count": 5,
     "metadata": {},
     "output_type": "execute_result"
    }
   ],
   "source": [
    "feature_columns"
   ]
  },
  {
   "cell_type": "code",
   "execution_count": 6,
   "id": "3d50559c-9c5c-4baa-bce1-db5b251271eb",
   "metadata": {},
   "outputs": [],
   "source": [
    "X = df[feature_columns]\n",
    "y = df[\"solubility_g_100g\"]"
   ]
  },
  {
   "cell_type": "code",
   "execution_count": 7,
   "id": "cfbda8f7-4804-45ae-b698-425ab3f14a9f",
   "metadata": {},
   "outputs": [
    {
     "data": {
      "text/html": [
       "<div>\n",
       "<style scoped>\n",
       "    .dataframe tbody tr th:only-of-type {\n",
       "        vertical-align: middle;\n",
       "    }\n",
       "\n",
       "    .dataframe tbody tr th {\n",
       "        vertical-align: top;\n",
       "    }\n",
       "\n",
       "    .dataframe thead th {\n",
       "        text-align: right;\n",
       "    }\n",
       "</style>\n",
       "<table border=\"1\" class=\"dataframe\">\n",
       "  <thead>\n",
       "    <tr style=\"text-align: right;\">\n",
       "      <th></th>\n",
       "      <th>solute_a_nC</th>\n",
       "      <th>solute_a_nN</th>\n",
       "      <th>solute_a_nO</th>\n",
       "      <th>solute_b_heavy</th>\n",
       "      <th>solute_b_rotN</th>\n",
       "      <th>solute_lip_acc</th>\n",
       "      <th>solute_lip_don</th>\n",
       "      <th>solute_rings</th>\n",
       "      <th>solute_TPSA</th>\n",
       "      <th>solvent_a_nC</th>\n",
       "      <th>solvent_a_nN</th>\n",
       "      <th>solvent_a_nO</th>\n",
       "      <th>solvent_b_heavy</th>\n",
       "      <th>solvent_b_rotN</th>\n",
       "      <th>solvent_lip_acc</th>\n",
       "      <th>solvent_lip_don</th>\n",
       "      <th>solvent_rings</th>\n",
       "      <th>solvent_TPSA</th>\n",
       "    </tr>\n",
       "  </thead>\n",
       "  <tbody>\n",
       "    <tr>\n",
       "      <th>0</th>\n",
       "      <td>6</td>\n",
       "      <td>0</td>\n",
       "      <td>6</td>\n",
       "      <td>11</td>\n",
       "      <td>5</td>\n",
       "      <td>6</td>\n",
       "      <td>6</td>\n",
       "      <td>0</td>\n",
       "      <td>121.38</td>\n",
       "      <td>3</td>\n",
       "      <td>0</td>\n",
       "      <td>1</td>\n",
       "      <td>3</td>\n",
       "      <td>1</td>\n",
       "      <td>1</td>\n",
       "      <td>1</td>\n",
       "      <td>0</td>\n",
       "      <td>20.230000</td>\n",
       "    </tr>\n",
       "    <tr>\n",
       "      <th>1</th>\n",
       "      <td>6</td>\n",
       "      <td>0</td>\n",
       "      <td>6</td>\n",
       "      <td>11</td>\n",
       "      <td>5</td>\n",
       "      <td>6</td>\n",
       "      <td>6</td>\n",
       "      <td>0</td>\n",
       "      <td>121.38</td>\n",
       "      <td>3</td>\n",
       "      <td>0</td>\n",
       "      <td>1</td>\n",
       "      <td>3</td>\n",
       "      <td>0</td>\n",
       "      <td>1</td>\n",
       "      <td>0</td>\n",
       "      <td>0</td>\n",
       "      <td>17.070000</td>\n",
       "    </tr>\n",
       "    <tr>\n",
       "      <th>2</th>\n",
       "      <td>6</td>\n",
       "      <td>0</td>\n",
       "      <td>6</td>\n",
       "      <td>11</td>\n",
       "      <td>5</td>\n",
       "      <td>6</td>\n",
       "      <td>6</td>\n",
       "      <td>0</td>\n",
       "      <td>121.38</td>\n",
       "      <td>4</td>\n",
       "      <td>0</td>\n",
       "      <td>1</td>\n",
       "      <td>4</td>\n",
       "      <td>2</td>\n",
       "      <td>1</td>\n",
       "      <td>1</td>\n",
       "      <td>0</td>\n",
       "      <td>20.230000</td>\n",
       "    </tr>\n",
       "    <tr>\n",
       "      <th>3</th>\n",
       "      <td>6</td>\n",
       "      <td>0</td>\n",
       "      <td>6</td>\n",
       "      <td>11</td>\n",
       "      <td>5</td>\n",
       "      <td>6</td>\n",
       "      <td>6</td>\n",
       "      <td>0</td>\n",
       "      <td>121.38</td>\n",
       "      <td>2</td>\n",
       "      <td>1</td>\n",
       "      <td>0</td>\n",
       "      <td>2</td>\n",
       "      <td>0</td>\n",
       "      <td>1</td>\n",
       "      <td>0</td>\n",
       "      <td>0</td>\n",
       "      <td>23.790001</td>\n",
       "    </tr>\n",
       "    <tr>\n",
       "      <th>4</th>\n",
       "      <td>6</td>\n",
       "      <td>0</td>\n",
       "      <td>6</td>\n",
       "      <td>11</td>\n",
       "      <td>5</td>\n",
       "      <td>6</td>\n",
       "      <td>6</td>\n",
       "      <td>0</td>\n",
       "      <td>121.38</td>\n",
       "      <td>1</td>\n",
       "      <td>0</td>\n",
       "      <td>1</td>\n",
       "      <td>1</td>\n",
       "      <td>0</td>\n",
       "      <td>1</td>\n",
       "      <td>1</td>\n",
       "      <td>0</td>\n",
       "      <td>20.230000</td>\n",
       "    </tr>\n",
       "    <tr>\n",
       "      <th>...</th>\n",
       "      <td>...</td>\n",
       "      <td>...</td>\n",
       "      <td>...</td>\n",
       "      <td>...</td>\n",
       "      <td>...</td>\n",
       "      <td>...</td>\n",
       "      <td>...</td>\n",
       "      <td>...</td>\n",
       "      <td>...</td>\n",
       "      <td>...</td>\n",
       "      <td>...</td>\n",
       "      <td>...</td>\n",
       "      <td>...</td>\n",
       "      <td>...</td>\n",
       "      <td>...</td>\n",
       "      <td>...</td>\n",
       "      <td>...</td>\n",
       "      <td>...</td>\n",
       "    </tr>\n",
       "    <tr>\n",
       "      <th>628</th>\n",
       "      <td>14</td>\n",
       "      <td>4</td>\n",
       "      <td>3</td>\n",
       "      <td>22</td>\n",
       "      <td>5</td>\n",
       "      <td>7</td>\n",
       "      <td>4</td>\n",
       "      <td>2</td>\n",
       "      <td>105.51</td>\n",
       "      <td>4</td>\n",
       "      <td>0</td>\n",
       "      <td>1</td>\n",
       "      <td>4</td>\n",
       "      <td>2</td>\n",
       "      <td>1</td>\n",
       "      <td>1</td>\n",
       "      <td>0</td>\n",
       "      <td>20.230000</td>\n",
       "    </tr>\n",
       "    <tr>\n",
       "      <th>629</th>\n",
       "      <td>14</td>\n",
       "      <td>4</td>\n",
       "      <td>3</td>\n",
       "      <td>22</td>\n",
       "      <td>5</td>\n",
       "      <td>7</td>\n",
       "      <td>4</td>\n",
       "      <td>2</td>\n",
       "      <td>105.51</td>\n",
       "      <td>4</td>\n",
       "      <td>0</td>\n",
       "      <td>1</td>\n",
       "      <td>4</td>\n",
       "      <td>1</td>\n",
       "      <td>1</td>\n",
       "      <td>1</td>\n",
       "      <td>0</td>\n",
       "      <td>20.230000</td>\n",
       "    </tr>\n",
       "    <tr>\n",
       "      <th>630</th>\n",
       "      <td>14</td>\n",
       "      <td>4</td>\n",
       "      <td>3</td>\n",
       "      <td>22</td>\n",
       "      <td>5</td>\n",
       "      <td>7</td>\n",
       "      <td>4</td>\n",
       "      <td>2</td>\n",
       "      <td>105.51</td>\n",
       "      <td>1</td>\n",
       "      <td>0</td>\n",
       "      <td>1</td>\n",
       "      <td>1</td>\n",
       "      <td>0</td>\n",
       "      <td>1</td>\n",
       "      <td>1</td>\n",
       "      <td>0</td>\n",
       "      <td>20.230000</td>\n",
       "    </tr>\n",
       "    <tr>\n",
       "      <th>631</th>\n",
       "      <td>14</td>\n",
       "      <td>4</td>\n",
       "      <td>3</td>\n",
       "      <td>22</td>\n",
       "      <td>5</td>\n",
       "      <td>7</td>\n",
       "      <td>4</td>\n",
       "      <td>2</td>\n",
       "      <td>105.51</td>\n",
       "      <td>4</td>\n",
       "      <td>0</td>\n",
       "      <td>1</td>\n",
       "      <td>5</td>\n",
       "      <td>0</td>\n",
       "      <td>1</td>\n",
       "      <td>0</td>\n",
       "      <td>1</td>\n",
       "      <td>9.229999</td>\n",
       "    </tr>\n",
       "    <tr>\n",
       "      <th>632</th>\n",
       "      <td>14</td>\n",
       "      <td>4</td>\n",
       "      <td>3</td>\n",
       "      <td>22</td>\n",
       "      <td>5</td>\n",
       "      <td>7</td>\n",
       "      <td>4</td>\n",
       "      <td>2</td>\n",
       "      <td>105.51</td>\n",
       "      <td>5</td>\n",
       "      <td>0</td>\n",
       "      <td>1</td>\n",
       "      <td>5</td>\n",
       "      <td>3</td>\n",
       "      <td>1</td>\n",
       "      <td>1</td>\n",
       "      <td>0</td>\n",
       "      <td>20.230000</td>\n",
       "    </tr>\n",
       "  </tbody>\n",
       "</table>\n",
       "<p>633 rows × 18 columns</p>\n",
       "</div>"
      ],
      "text/plain": [
       "     solute_a_nC  solute_a_nN  solute_a_nO  solute_b_heavy  solute_b_rotN  \\\n",
       "0              6            0            6              11              5   \n",
       "1              6            0            6              11              5   \n",
       "2              6            0            6              11              5   \n",
       "3              6            0            6              11              5   \n",
       "4              6            0            6              11              5   \n",
       "..           ...          ...          ...             ...            ...   \n",
       "628           14            4            3              22              5   \n",
       "629           14            4            3              22              5   \n",
       "630           14            4            3              22              5   \n",
       "631           14            4            3              22              5   \n",
       "632           14            4            3              22              5   \n",
       "\n",
       "     solute_lip_acc  solute_lip_don  solute_rings  solute_TPSA  solvent_a_nC  \\\n",
       "0                 6               6             0       121.38             3   \n",
       "1                 6               6             0       121.38             3   \n",
       "2                 6               6             0       121.38             4   \n",
       "3                 6               6             0       121.38             2   \n",
       "4                 6               6             0       121.38             1   \n",
       "..              ...             ...           ...          ...           ...   \n",
       "628               7               4             2       105.51             4   \n",
       "629               7               4             2       105.51             4   \n",
       "630               7               4             2       105.51             1   \n",
       "631               7               4             2       105.51             4   \n",
       "632               7               4             2       105.51             5   \n",
       "\n",
       "     solvent_a_nN  solvent_a_nO  solvent_b_heavy  solvent_b_rotN  \\\n",
       "0               0             1                3               1   \n",
       "1               0             1                3               0   \n",
       "2               0             1                4               2   \n",
       "3               1             0                2               0   \n",
       "4               0             1                1               0   \n",
       "..            ...           ...              ...             ...   \n",
       "628             0             1                4               2   \n",
       "629             0             1                4               1   \n",
       "630             0             1                1               0   \n",
       "631             0             1                5               0   \n",
       "632             0             1                5               3   \n",
       "\n",
       "     solvent_lip_acc  solvent_lip_don  solvent_rings  solvent_TPSA  \n",
       "0                  1                1              0     20.230000  \n",
       "1                  1                0              0     17.070000  \n",
       "2                  1                1              0     20.230000  \n",
       "3                  1                0              0     23.790001  \n",
       "4                  1                1              0     20.230000  \n",
       "..               ...              ...            ...           ...  \n",
       "628                1                1              0     20.230000  \n",
       "629                1                1              0     20.230000  \n",
       "630                1                1              0     20.230000  \n",
       "631                1                0              1      9.229999  \n",
       "632                1                1              0     20.230000  \n",
       "\n",
       "[633 rows x 18 columns]"
      ]
     },
     "execution_count": 7,
     "metadata": {},
     "output_type": "execute_result"
    }
   ],
   "source": [
    "X"
   ]
  },
  {
   "cell_type": "code",
   "execution_count": 8,
   "id": "b7f0ae4d-b068-4f7f-b296-47777b98e14f",
   "metadata": {},
   "outputs": [
    {
     "data": {
      "text/plain": [
       "0      0.375750\n",
       "1      0.119860\n",
       "2      0.220160\n",
       "3      0.092300\n",
       "4      3.347240\n",
       "         ...   \n",
       "628    0.248834\n",
       "629    0.220364\n",
       "630    1.568378\n",
       "631    0.472030\n",
       "632    0.223188\n",
       "Name: solubility_g_100g, Length: 633, dtype: float64"
      ]
     },
     "execution_count": 8,
     "metadata": {},
     "output_type": "execute_result"
    }
   ],
   "source": [
    "y"
   ]
  },
  {
   "cell_type": "markdown",
   "id": "966958ff-f22f-4b71-b0b1-16a7a95c8e7e",
   "metadata": {},
   "source": [
    "### Splitting the Data into Training and Validating and Standardising\n",
    "\n",
    "scikit-learn contains a `train_test_split` function to allow for the easy splitting up of the data. By default this splits the data into 75% training and 25% testing, however we will change this to be 80% training and 20% testing.\n",
    "\n",
    "For more information see the [documentation](https://scikit-learn.org/stable/modules/generated/sklearn.model_selection.train_test_split.html)."
   ]
  },
  {
   "cell_type": "code",
   "execution_count": 9,
   "id": "60738829-1415-4388-b377-c8404da3379e",
   "metadata": {},
   "outputs": [],
   "source": [
    "X_train, X_val, y_train, y_val = train_test_split(X, y, test_size=0.2, random_state=42)"
   ]
  },
  {
   "cell_type": "markdown",
   "id": "f487d511-9872-485e-bcd2-86ef02f70a80",
   "metadata": {},
   "source": [
    "Now the data has been split into training and validation data with the validation being 20% of the dataset (defined by argument `test_size=0.2`). `random_state` determines how the data is randomly split between the training and validation set. The idea is that your data will be complete enough that taking a random selection out will not change the data distribution. (We will see later that this is not necessarily the case and there are ways around this)."
   ]
  },
  {
   "cell_type": "markdown",
   "id": "bbd9994c-1e24-4594-b275-bdc18535075b",
   "metadata": {},
   "source": [
    "The data now needs to be standardised as covered in the slides. This is accomplished using `StandardScaler` from scikit-learn. First a `StandardScaler` object must be [defined](https://scikit-learn.org/stable/modules/preprocessing.html):"
   ]
  },
  {
   "cell_type": "code",
   "execution_count": 10,
   "id": "0663e92e-d7ad-4688-bd36-4d0ec12fa386",
   "metadata": {},
   "outputs": [],
   "source": [
    "ss = StandardScaler()"
   ]
  },
  {
   "cell_type": "markdown",
   "id": "19c46b7f-3806-4adf-a7ed-b5754162a117",
   "metadata": {},
   "source": [
    "Each feature of the data (each `DataFrame` column) is scaled independently, with the assumption that the values for each feature is drawn from the same probability distribution. To find the scaling required for each feature we use the `.fit` function of the `StandardScaler` (it basically works out the mean and standard deviation of each feature)."
   ]
  },
  {
   "cell_type": "code",
   "execution_count": 11,
   "id": "4575c948-1cb4-458a-b6fd-f2a842e1e228",
   "metadata": {},
   "outputs": [
    {
     "data": {
      "text/plain": [
       "StandardScaler()"
      ]
     },
     "execution_count": 11,
     "metadata": {},
     "output_type": "execute_result"
    }
   ],
   "source": [
    "ss.fit(X_train)"
   ]
  },
  {
   "cell_type": "markdown",
   "id": "3c9a2097-4e23-4d3e-b844-e28598c16fee",
   "metadata": {},
   "source": [
    "Note that the `StandardScaler` uses the training data to scale **all** of the data as it is assumed that the validation points will be drawn from the same data distribution as the training points. Now we need to actually scale the points using"
   ]
  },
  {
   "cell_type": "code",
   "execution_count": 12,
   "id": "8eac4e1b-85f6-48d7-a767-0186a0256249",
   "metadata": {},
   "outputs": [],
   "source": [
    "X_train_scaled = ss.transform(X_train)\n",
    "X_val_scaled = ss.transform(X_val)"
   ]
  },
  {
   "cell_type": "markdown",
   "id": "b16f5c12-d827-4528-9df0-078caf6c318a",
   "metadata": {},
   "source": [
    "The inputs are not the only data scaled however. It was found that the ML models fit this dataset better when they are logged (see [here](https://scikit-learn.org/stable/auto_examples/compose/plot_transformed_target.html#sphx-glr-auto-examples-compose-plot-transformed-target-py) for some explanation as to why this might be). Therefore we log the outputs of the data using"
   ]
  },
  {
   "cell_type": "code",
   "execution_count": 13,
   "id": "c66b1398-ef53-4aaf-97d5-aaada9b9eb85",
   "metadata": {},
   "outputs": [],
   "source": [
    "y_train_scaled = np.log10(y_train)\n",
    "y_val_scaled = np.log10(y_val)"
   ]
  },
  {
   "cell_type": "markdown",
   "id": "0a8d6d36-4dd6-41e3-9dd3-6d1e3401cedc",
   "metadata": {},
   "source": [
    "## Model Fitting and Predictions\n",
    "\n",
    "The following will now implement two different machine learning models &mdash; random forest and neural network &mdash; to learn to predict solubility from our features.\n",
    "\n",
    "### Random Forests\n",
    "\n",
    "A random forest (RF) is a collection of decision trees. A decision tree makes a prediction about a data point based on certain conditions of the features. This can be thought of as a branching path where the tree has a starting condition which splits the data one way or the other. The two subsequent conditions then split the data further and so on and so forth until the response is predicted correctly. e.g.\n",
    "\n",
    "![Decision Tree](images/decision_tree.png)\n",
    "\n",
    "This decision tree is used figure out if an animal is a squirrel, rat, rhino, hippo, elephant or giraffe based on some of its characteristics. This is what we want a decision tree to do. However for data such as ours, the splits that need to be considered are less obvious. Therefore we must try a bunch of different splits of the features and see which gives the best predictions. This is how a decision tree is trained. For a good albeit corny explanation of how decision trees work see the videos [here](https://www.youtube.com/watch?v=ZVR2Way4nwQ) and [here](https://www.youtube.com/watch?v=UhY5vPfQIrA).\n",
    "\n",
    "A random forest is then just a collection of these decision trees which are formulated on a subset of the features. The idea is to get as many predictions as possible and average them to get the prediction from the entire forest (or in the case of classification each tree would get a vote). For a more in-depth explanation of a RF please see the video [here](https://www.youtube.com/watch?v=v6VJ2RO66Ag).\n",
    "\n",
    "Now we will implement the RF algorithm to try to predict our validation data. At the start of the script we imported the `RandomForestRegressor` which is what we will be using for the model (more information can be found [here](https://scikit-learn.org/stable/modules/generated/sklearn.ensemble.RandomForestRegressor.html) and [here](https://scikit-learn.org/stable/modules/ensemble.html#forest)). The main parameter we need to think about when implementing a random forest is the number of decision trees to include in it. By default, scikit-learn uses 100 but we will use 500 (because that's what Tony said to use).\n",
    "\n",
    "\n",
    "### Exercise 1: Defining the Model\n",
    "Change the following line of code to include 500 trees rather than 100"
   ]
  },
  {
   "cell_type": "code",
   "execution_count": 14,
   "id": "1b55f938-deb8-4bec-8191-d74a8b8e8868",
   "metadata": {},
   "outputs": [],
   "source": [
    "rfr = RandomForestRegressor(n_estimators=500, max_features=\"sqrt\")"
   ]
  },
  {
   "cell_type": "markdown",
   "id": "1a7cc722-632a-4a78-a66b-3e2ffbb98688",
   "metadata": {},
   "source": [
    "Now the RF must be fit to the data using the `.fit` functions similar to how it works with the `StandardScaler` but this time we need both input and output.\n",
    "\n",
    "### Exercise 2: Fit the Model\n",
    "Fit the model to the training data."
   ]
  },
  {
   "cell_type": "code",
   "execution_count": 20,
   "id": "ccacced3-4319-4d6a-b8b3-82a7c88d11a8",
   "metadata": {},
   "outputs": [
    {
     "data": {
      "text/plain": [
       "RandomForestRegressor(max_features='sqrt', n_estimators=500)"
      ]
     },
     "execution_count": 20,
     "metadata": {},
     "output_type": "execute_result"
    }
   ],
   "source": [
    "rfr.fit(X_train_scaled, y_train_scaled)"
   ]
  },
  {
   "cell_type": "markdown",
   "id": "860945f3-98db-4ee1-b499-a22ac6ad2260",
   "metadata": {},
   "source": [
    "### Exercise 3: Evaluate the Model\n",
    "\n",
    "There are now two functions that we can use to evaluate the performance of the model:\n",
    "\n",
    "* `.predict` which will predict outputs based on inputs passed to it\n",
    "* `.score` will return the [coefficient of determination](https://en.wikipedia.org/wiki/Coefficient_of_determination) ($R^{2}$ score) of the model which is just a measure of how well the model predicts unseen data ($R^{2}$ = 1 means the model perfectly predicts all validation data with 0 being the worst it can get).\n",
    "\n",
    "The aim of this exercise is to predict the solubility values of the validation points and compare it with the actual solubility points of the validation points.\n",
    "\n",
    "Using `.predict` will return a list of numbers of predicted solubility, this can then be plotted against the actual solubility to visualise how well our model performs. This plot can be thought of a visualisation of an $R^{2}$ score since the higher the $R^{2}$ score the more like a straight line this plot will look, for more info see [here](https://stats.stackexchange.com/questions/104622/what-does-an-actual-vs-fitted-graph-tell-us).\n",
    "\n",
    "So create a variable `y_pred` to contain the predicted log solubility values and then run the plotting code below to see how well the model fits unseen data. Does it fit well? Do you expect $R^{2}$ to be close to 1, close to 0?"
   ]
  },
  {
   "cell_type": "code",
   "execution_count": 21,
   "id": "55cc3378-cd1e-46dd-a114-197f9094df55",
   "metadata": {},
   "outputs": [],
   "source": [
    "y_pred = rfr.predict(X_val_scaled)"
   ]
  },
  {
   "cell_type": "code",
   "execution_count": 24,
   "id": "0f9c7b3b-7c82-4766-85c1-849ab659e9d1",
   "metadata": {},
   "outputs": [
    {
     "data": {
      "text/plain": [
       "[<matplotlib.lines.Line2D at 0x27c57653f10>]"
      ]
     },
     "execution_count": 24,
     "metadata": {},
     "output_type": "execute_result"
    },
    {
     "data": {
      "image/png": "[encoded data removed]",
      "text/plain": [
       "<Figure size 432x288 with 1 Axes>"
      ]
     },
     "metadata": {
      "needs_background": "light"
     },
     "output_type": "display_data"
    }
   ],
   "source": [
    "plt.figure()\n",
    "plt.scatter(y_pred, y_val_scaled)\n",
    "plt.xlabel(\"Predicted Log Solubility\")\n",
    "plt.ylabel(\"Actual Log Solubility\")\n",
    "plt.plot([-4, 3], [-4, 3], \"--k\")"
   ]
  },
  {
   "cell_type": "markdown",
   "id": "62f8da50-ba19-4d4c-bb59-df1183ececa7",
   "metadata": {},
   "source": [
    "To affirm what the plot above tells us, the $R^{2}$ score is calculated. Create a variable called `rf_r2` to store the $R^{2}$ score and then print it."
   ]
  },
  {
   "cell_type": "code",
   "execution_count": 25,
   "id": "080dd42f-c968-4c07-bec6-32117e9ded9e",
   "metadata": {},
   "outputs": [],
   "source": [
    "rf_r2 = rfr.score(X_val_scaled, y_val_scaled)"
   ]
  },
  {
   "cell_type": "code",
   "execution_count": 26,
   "id": "1aaa12b0-3867-48f8-afe5-da16c6c14d26",
   "metadata": {},
   "outputs": [
    {
     "data": {
      "text/plain": [
       "0.6368886116182463"
      ]
     },
     "execution_count": 26,
     "metadata": {},
     "output_type": "execute_result"
    }
   ],
   "source": [
    "rf_r2"
   ]
  },
  {
   "cell_type": "markdown",
   "id": "ed11db59-b4d6-45a9-9fb6-5789d1aeebab",
   "metadata": {},
   "source": [
    "### Neural Networks\n",
    "\n",
    "The second type of model we will fit to our data is a deep neural network &mdash; particularly the multilayer perceptron (MLP) model. Neural networks are quite possibly the most well-known ML technique and for good reason &mdash; they are good at learning.\n",
    "\n",
    "The structure of neural networks is relatively easy to understand. They are based on 1950s knowledge of how pathways in the brain work. Consider a neuron in the brain. It will receive some information and then pass an electrical signal based on its response to that information. Now there can be many different neurons interpreting the same information all designed to send different electrical signals to different places. This forms the basis for how neural networks work. In our artificial system each neuron is referred to as a *node* and each set of nodes which processes the same information is called a *layer*. A \"perceptron\" is the original name for a neural network which processes information with a single layer and makes a prediction based on the outputs of each node. Therefore a multilayer perceptron is a modification of this neural network where we use multiple layers. That is, the initial input data is fed into the first layer but then the outputs of the first layer are used as the inputs to the second and so on until an output layer is reached where a prediction is made.\n",
    "\n",
    "How does something like this learn? The data passed to each nodes is transformed via a composition of a linear and non-linear functions. The linear function is parameterised by a set of numbers known as the *learnable parameters*. These learnable parameters start off random with the network making random predictions. The prediction is then compared with the true output value using an MSE metric and this informs the network how to change these learnable parameters to get a better prediction on the output.\n",
    "\n",
    "The actual implementation and maths behind how neural networks work is not important here, what is important is that you understand how to apply a network and how they can be used for predictions. Similar to how we can choose the number of decission trees in a random forest, the number of nodes per layer of a network can be set to give more or less learnable parameters in the system.\n",
    "\n",
    "The following code will be using the `MLPRegressor` from scikit-learn (more information [here](https://scikit-learn.org/stable/modules/generated/sklearn.neural_network.MLPRegressor.html#sklearn.neural_network.MLPRegressor)).\n",
    "\n",
    "### Exercise 1: Defining the Model\n",
    "\n",
    "An `MLPRegressor` model can be defined similarly to a `RandomForestRegressor` but this time we would like to set `hidden_layer_sizes = (1000,)` and `max_iter = 10000`."
   ]
  },
  {
   "cell_type": "code",
   "execution_count": 27,
   "id": "b1efc697-18a8-4ca7-9d4f-f40d1b76e252",
   "metadata": {},
   "outputs": [],
   "source": [
    "mlp = MLPRegressor(hidden_layer_sizes=(1000,), max_iter=10000)"
   ]
  },
  {
   "cell_type": "markdown",
   "id": "b8f36cf3-13a2-46f2-b37e-16b61aa7d828",
   "metadata": {},
   "source": [
    "By default the `MLPRegressor` neural network has **3** layers so setting `hidden_layer_sizes = (1000,)` will construct a 3 layer network where each layer has 1000 nodes.\n",
    "\n",
    "### Exercise 2: Fitting the Model\n",
    "\n",
    "Using the same `.fit` function as for the random forest we can fit our neural network to our training data."
   ]
  },
  {
   "cell_type": "code",
   "execution_count": 28,
   "id": "841f49d2-1d33-4a24-a148-10ba68b519ac",
   "metadata": {},
   "outputs": [
    {
     "data": {
      "text/plain": [
       "MLPRegressor(hidden_layer_sizes=(1000,), max_iter=10000)"
      ]
     },
     "execution_count": 28,
     "metadata": {},
     "output_type": "execute_result"
    }
   ],
   "source": [
    "mlp.fit(X_train_scaled, y_train_scaled)"
   ]
  },
  {
   "cell_type": "markdown",
   "id": "f53ec465-5bad-4f37-8808-ff89cad03bbc",
   "metadata": {},
   "source": [
    "### Exercise 3: Evalute the Model\n",
    "\n",
    "And again we can evaluate the model, including the actual vs. predicted plot and the $R^{2}$ score using the `.predict` and `.score` functions."
   ]
  },
  {
   "cell_type": "code",
   "execution_count": 29,
   "id": "61d6f8e4-2976-4607-83e9-68abc843b76e",
   "metadata": {},
   "outputs": [],
   "source": [
    "y_pred = mlp.predict(X_val_scaled)"
   ]
  },
  {
   "cell_type": "code",
   "execution_count": 34,
   "id": "56b8c59e-0887-4752-8812-74e46d1d86cd",
   "metadata": {},
   "outputs": [
    {
     "data": {
      "text/plain": [
       "[<matplotlib.lines.Line2D at 0x27c577c5490>]"
      ]
     },
     "execution_count": 34,
     "metadata": {},
     "output_type": "execute_result"
    },
    {
     "data": {
      "image/png": "[encoded data removed]",
      "text/plain": [
       "<Figure size 432x288 with 1 Axes>"
      ]
     },
     "metadata": {
      "needs_background": "light"
     },
     "output_type": "display_data"
    }
   ],
   "source": [
    "plt.figure()\n",
    "plt.scatter(y_pred, y_val_scaled)\n",
    "plt.xlabel(\"Predicted Log Solubility\")\n",
    "plt.ylabel(\"Actual Log Solubility\")\n",
    "plt.plot([-4, 3], [-4, 3], \"--k\")"
   ]
  },
  {
   "cell_type": "code",
   "execution_count": 32,
   "id": "8950bc32-2de5-4a15-9ddf-e746faa865d6",
   "metadata": {},
   "outputs": [],
   "source": [
    "mlp_r2 = mlp.score(X_val_scaled, y_val_scaled)"
   ]
  },
  {
   "cell_type": "code",
   "execution_count": 33,
   "id": "0e1c20be-c0a7-43af-8c35-e08a46afc726",
   "metadata": {},
   "outputs": [
    {
     "data": {
      "text/plain": [
       "0.5822733245369744"
      ]
     },
     "execution_count": 33,
     "metadata": {},
     "output_type": "execute_result"
    }
   ],
   "source": [
    "mlp_r2"
   ]
  },
  {
   "cell_type": "markdown",
   "id": "30b93882-aa4d-450a-8004-9db84b452f0b",
   "metadata": {},
   "source": [
    "### Comparing the Two Models\n",
    "\n",
    "Which model is better? Are you surprised?\n",
    "\n",
    "## Model Improvement\n",
    "\n",
    "The models we have used here are not **amazing**. This could be due to a variety of factors:\n",
    "\n",
    "1. The training dataset is not representative of the true data distribution therefore application to unseen validation is worse.\n",
    "2. The model parameters are not optimal for learning the problem e.g. more/less trees needed, more/less nodes/layers needed.\n",
    "\n",
    "For the last part of the exercise we will focus on 1. ([However, 2. can be addressed by performing a grid search over a bunch of the parameters in the model and seeing which performs the best](https://scikit-learn.org/stable/modules/generated/sklearn.model_selection.GridSearchCV.html)).\n",
    "\n",
    "When we split the data into training and validation using the `train_test_split` function we choose `random_state = 42` randomly. This split up the data into training and validation but may not have split them in an optimal way. That is, the standardisation and model are fitted to the training data so there is an underlying assumption that the training data is representative of the true data distribution. For some splits of the data this may not be the case however and the model may be learning from a bad subset of the data which teaches the model the wrong distribution therefore making the predictions more erroneous.\n",
    "\n",
    "To counter this we perform what is known as *cross validation*. This is when many models are trained on different splits of training and validation data and the model with the average result over all tests used as an indicator of how well our model would perform regardless of dataset permutation. In the code this is implemented through a combination of `KFold` and `cross_validate` to perform *K-Fold cross validation*. K-Fold cross validation just means that the data is split K different times and the model is trained on K subsets of data (typical values are 5, 10, 20). So performing this in the code we must first define a `KFold` object which will tell the `cross_validate` function e.g."
   ]
  },
  {
   "cell_type": "code",
   "execution_count": 35,
   "id": "38a77538-a1c9-4a7c-b783-585243fc6e9a",
   "metadata": {},
   "outputs": [],
   "source": [
    "kf = KFold(n_splits=20, shuffle=True, random_state=42)"
   ]
  },
  {
   "cell_type": "code",
   "execution_count": 36,
   "id": "052708ca-de4f-43aa-b2aa-f112de95e3b4",
   "metadata": {},
   "outputs": [],
   "source": [
    "pipe = make_pipeline(StandardScaler(), RandomForestRegressor(n_estimators=500, max_features=\"sqrt\"))"
   ]
  },
  {
   "cell_type": "code",
   "execution_count": 37,
   "id": "04a00569-56e1-40e6-b3ea-a16d86f77e18",
   "metadata": {},
   "outputs": [],
   "source": [
    "y = np.log10(y)"
   ]
  },
  {
   "cell_type": "code",
   "execution_count": 38,
   "id": "9f09b91e-29c7-4b86-ab99-6e5bf4731fb1",
   "metadata": {},
   "outputs": [],
   "source": [
    "cval = cross_validate(pipe, X, y, cv=kf, return_estimator=True)"
   ]
  },
  {
   "cell_type": "markdown",
   "id": "ee1d3563-39dd-402b-a091-2b8cf321312a",
   "metadata": {},
   "source": [
    "A bit of an explanation for the code above. Since we are doing different dataset splits for each model, the `StandardScaler` must be fitted to each new set of training data. This is where the `make_pipeline` function comes in. This allows us to join together various features in scikit-learn into one workflow to be executed in sequence (see [here](https://scikit-learn.org/stable/modules/generated/sklearn.pipeline.make_pipeline.html)). Therefore, rather than just fitting a model, we now have the `StandardScaler` applied and then the model is applied. The `cross_validation` function itself expects the model pipeline, the input data, the output data and the K-fold to be used. We set `return_estimator = True` to also return the trained models.\n",
    "\n",
    "`cross_validate` [returns a dictionary](https://scikit-learn.org/stable/modules/generated/sklearn.model_selection.cross_validate.html) with four keys:\n",
    "\n",
    "1. `test_score` &mdash; this is the $R^{2}$ of the model\n",
    "2. `estimator` &mdash; this is a list of the trained models\n",
    "3. `fit_time` &mdash; how long in seconds it took to fit the model\n",
    "4. `score_time` &mdash; how long in seconds it took to score the validation dataset\n",
    "\n",
    "### Exercise 1: Viewing the K-fold Cross Validation Results\n",
    "\n",
    "View this dictionary by printing it below."
   ]
  },
  {
   "cell_type": "code",
   "execution_count": 39,
   "id": "a7517639-bb53-4d34-b2f1-90c034441ece",
   "metadata": {},
   "outputs": [
    {
     "data": {
      "text/plain": [
       "{'fit_time': array([0.55292606, 0.48178267, 0.49253392, 0.52175212, 0.52669764,\n",
       "        0.51387858, 0.48750329, 0.52895927, 0.47129178, 0.56034255,\n",
       "        0.48947835, 0.56910872, 0.49909139, 0.49259615, 0.51818919,\n",
       "        0.48870206, 0.49863815, 0.52487683, 0.49998665, 0.52241588]),\n",
       " 'score_time': array([0.02170062, 0.0190196 , 0.03191853, 0.03123593, 0.00757861,\n",
       "        0.01561213, 0.03116822, 0.03175402, 0.01561379, 0.03125358,\n",
       "        0.02168989, 0.03240681, 0.01308036, 0.03133249, 0.01935577,\n",
       "        0.01561689, 0.02200007, 0.03132319, 0.02599978, 0.02878666]),\n",
       " 'estimator': [Pipeline(steps=[('standardscaler', StandardScaler()),\n",
       "                  ('randomforestregressor',\n",
       "                   RandomForestRegressor(max_features='sqrt', n_estimators=500))]),\n",
       "  Pipeline(steps=[('standardscaler', StandardScaler()),\n",
       "                  ('randomforestregressor',\n",
       "                   RandomForestRegressor(max_features='sqrt', n_estimators=500))]),\n",
       "  Pipeline(steps=[('standardscaler', StandardScaler()),\n",
       "                  ('randomforestregressor',\n",
       "                   RandomForestRegressor(max_features='sqrt', n_estimators=500))]),\n",
       "  Pipeline(steps=[('standardscaler', StandardScaler()),\n",
       "                  ('randomforestregressor',\n",
       "                   RandomForestRegressor(max_features='sqrt', n_estimators=500))]),\n",
       "  Pipeline(steps=[('standardscaler', StandardScaler()),\n",
       "                  ('randomforestregressor',\n",
       "                   RandomForestRegressor(max_features='sqrt', n_estimators=500))]),\n",
       "  Pipeline(steps=[('standardscaler', StandardScaler()),\n",
       "                  ('randomforestregressor',\n",
       "                   RandomForestRegressor(max_features='sqrt', n_estimators=500))]),\n",
       "  Pipeline(steps=[('standardscaler', StandardScaler()),\n",
       "                  ('randomforestregressor',\n",
       "                   RandomForestRegressor(max_features='sqrt', n_estimators=500))]),\n",
       "  Pipeline(steps=[('standardscaler', StandardScaler()),\n",
       "                  ('randomforestregressor',\n",
       "                   RandomForestRegressor(max_features='sqrt', n_estimators=500))]),\n",
       "  Pipeline(steps=[('standardscaler', StandardScaler()),\n",
       "                  ('randomforestregressor',\n",
       "                   RandomForestRegressor(max_features='sqrt', n_estimators=500))]),\n",
       "  Pipeline(steps=[('standardscaler', StandardScaler()),\n",
       "                  ('randomforestregressor',\n",
       "                   RandomForestRegressor(max_features='sqrt', n_estimators=500))]),\n",
       "  Pipeline(steps=[('standardscaler', StandardScaler()),\n",
       "                  ('randomforestregressor',\n",
       "                   RandomForestRegressor(max_features='sqrt', n_estimators=500))]),\n",
       "  Pipeline(steps=[('standardscaler', StandardScaler()),\n",
       "                  ('randomforestregressor',\n",
       "                   RandomForestRegressor(max_features='sqrt', n_estimators=500))]),\n",
       "  Pipeline(steps=[('standardscaler', StandardScaler()),\n",
       "                  ('randomforestregressor',\n",
       "                   RandomForestRegressor(max_features='sqrt', n_estimators=500))]),\n",
       "  Pipeline(steps=[('standardscaler', StandardScaler()),\n",
       "                  ('randomforestregressor',\n",
       "                   RandomForestRegressor(max_features='sqrt', n_estimators=500))]),\n",
       "  Pipeline(steps=[('standardscaler', StandardScaler()),\n",
       "                  ('randomforestregressor',\n",
       "                   RandomForestRegressor(max_features='sqrt', n_estimators=500))]),\n",
       "  Pipeline(steps=[('standardscaler', StandardScaler()),\n",
       "                  ('randomforestregressor',\n",
       "                   RandomForestRegressor(max_features='sqrt', n_estimators=500))]),\n",
       "  Pipeline(steps=[('standardscaler', StandardScaler()),\n",
       "                  ('randomforestregressor',\n",
       "                   RandomForestRegressor(max_features='sqrt', n_estimators=500))]),\n",
       "  Pipeline(steps=[('standardscaler', StandardScaler()),\n",
       "                  ('randomforestregressor',\n",
       "                   RandomForestRegressor(max_features='sqrt', n_estimators=500))]),\n",
       "  Pipeline(steps=[('standardscaler', StandardScaler()),\n",
       "                  ('randomforestregressor',\n",
       "                   RandomForestRegressor(max_features='sqrt', n_estimators=500))]),\n",
       "  Pipeline(steps=[('standardscaler', StandardScaler()),\n",
       "                  ('randomforestregressor',\n",
       "                   RandomForestRegressor(max_features='sqrt', n_estimators=500))])],\n",
       " 'test_score': array([0.57309471, 0.65787078, 0.66002266, 0.53606309, 0.80506419,\n",
       "        0.81111558, 0.65019937, 0.3994834 , 0.6365688 , 0.62148035,\n",
       "        0.74833193, 0.46844855, 0.81675631, 0.79632088, 0.8164473 ,\n",
       "        0.41158542, 0.55364769, 0.72964623, 0.66830252, 0.80096941])}"
      ]
     },
     "execution_count": 39,
     "metadata": {},
     "output_type": "execute_result"
    }
   ],
   "source": [
    "cval"
   ]
  },
  {
   "cell_type": "markdown",
   "id": "1d83a41d-af0c-4156-98cd-e7c235a62cbc",
   "metadata": {},
   "source": [
    "Now print just the `test_score` entry of the dictionary to see the results"
   ]
  },
  {
   "cell_type": "code",
   "execution_count": 40,
   "id": "5ba34945-a6d3-450c-ac15-85385f854445",
   "metadata": {},
   "outputs": [
    {
     "data": {
      "text/plain": [
       "array([0.57309471, 0.65787078, 0.66002266, 0.53606309, 0.80506419,\n",
       "       0.81111558, 0.65019937, 0.3994834 , 0.6365688 , 0.62148035,\n",
       "       0.74833193, 0.46844855, 0.81675631, 0.79632088, 0.8164473 ,\n",
       "       0.41158542, 0.55364769, 0.72964623, 0.66830252, 0.80096941])"
      ]
     },
     "execution_count": 40,
     "metadata": {},
     "output_type": "execute_result"
    }
   ],
   "source": [
    "cval[\"test_score\"]"
   ]
  },
  {
   "cell_type": "markdown",
   "id": "fd001072-edcc-48c3-b9b5-c125f61c7330",
   "metadata": {},
   "source": [
    "### Exercise 2: Calculate the Mean and Standard Deviation of the Cross Validation Results\n",
    "\n",
    "Hint: Google calculating mean and standard deviation using numpy."
   ]
  },
  {
   "cell_type": "code",
   "execution_count": 41,
   "id": "a2a4de25-ac00-4754-9348-1da55e6f1dc8",
   "metadata": {},
   "outputs": [
    {
     "data": {
      "text/plain": [
       "0.66"
      ]
     },
     "execution_count": 41,
     "metadata": {},
     "output_type": "execute_result"
    }
   ],
   "source": [
    "np.round(np.mean(cval[\"test_score\"]), decimals=2)"
   ]
  },
  {
   "cell_type": "code",
   "execution_count": 42,
   "id": "70e48774-9f97-4041-8997-fbdd5166311c",
   "metadata": {},
   "outputs": [
    {
     "data": {
      "text/plain": [
       "0.13"
      ]
     },
     "execution_count": 42,
     "metadata": {},
     "output_type": "execute_result"
    }
   ],
   "source": [
    "np.round(np.std(cval[\"test_score\"]), decimals=2)"
   ]
  },
  {
   "cell_type": "markdown",
   "id": "ea8e5e74-bb96-4842-98d2-cdada6e67318",
   "metadata": {},
   "source": [
    "### Exercise 3: Do the Same As Above but for the `MLPRegressor`"
   ]
  },
  {
   "cell_type": "code",
   "execution_count": 43,
   "id": "adf3d3e5-a5c9-473b-8376-3c6510c2fba8",
   "metadata": {},
   "outputs": [],
   "source": [
    "mlp_kf = KFold(n_splits=20, shuffle=True)"
   ]
  },
  {
   "cell_type": "code",
   "execution_count": 44,
   "id": "6845bbca-9fb4-4c3b-984d-60786c5fa2a4",
   "metadata": {},
   "outputs": [],
   "source": [
    "mlp_pipe = make_pipeline(StandardScaler(), MLPRegressor(hidden_layer_sizes=(64,), max_iter=10000))"
   ]
  },
  {
   "cell_type": "code",
   "execution_count": 45,
   "id": "8042a25d-b4cf-4874-876f-572aeb016942",
   "metadata": {},
   "outputs": [],
   "source": [
    "mlp_cval = cross_validate(mlp_pipe, X, y, cv=mlp_kf, return_estimator=True)"
   ]
  },
  {
   "cell_type": "code",
   "execution_count": 46,
   "id": "d2f41fd3-8f71-4c9a-a497-441039dd4733",
   "metadata": {},
   "outputs": [
    {
     "data": {
      "text/plain": [
       "array([0.28901316, 0.43405069, 0.39340514, 0.03051675, 0.27316989,\n",
       "       0.51790646, 0.52849517, 0.38017965, 0.53440738, 0.60873206,\n",
       "       0.24892521, 0.49061495, 0.47034051, 0.46149462, 0.50416059,\n",
       "       0.41073316, 0.69993819, 0.33886659, 0.28887086, 0.48196007])"
      ]
     },
     "execution_count": 46,
     "metadata": {},
     "output_type": "execute_result"
    }
   ],
   "source": [
    "mlp_cval[\"test_score\"]"
   ]
  },
  {
   "cell_type": "code",
   "execution_count": 47,
   "id": "9943a927-2456-4e5e-b0be-65e9ed7e449d",
   "metadata": {},
   "outputs": [
    {
     "data": {
      "text/plain": [
       "0.42"
      ]
     },
     "execution_count": 47,
     "metadata": {},
     "output_type": "execute_result"
    }
   ],
   "source": [
    "np.round(np.mean(mlp_cval[\"test_score\"]), decimals=2)"
   ]
  },
  {
   "cell_type": "code",
   "execution_count": 48,
   "id": "5692fb37-7b4c-41f2-950b-ce9a769194eb",
   "metadata": {},
   "outputs": [
    {
     "data": {
      "text/plain": [
       "0.14"
      ]
     },
     "execution_count": 48,
     "metadata": {},
     "output_type": "execute_result"
    }
   ],
   "source": [
    "np.round(np.std(mlp_cval[\"test_score\"]), decimals=2)"
   ]
  }
 ],
 "metadata": {
  "kernelspec": {
   "display_name": "Python 3 (ipykernel)",
   "language": "python",
   "name": "python3"
  },
  "language_info": {
   "codemirror_mode": {
    "name": "ipython",
    "version": 3
   },
   "file_extension": ".py",
   "mimetype": "text/x-python",
   "name": "python",
   "nbconvert_exporter": "python",
   "pygments_lexer": "ipython3",
   "version": "3.9.12"
  }
 },
 "nbformat": 4,
 "nbformat_minor": 5
}
