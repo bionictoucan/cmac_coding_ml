{
 "cells": [
  {
   "cell_type": "markdown",
   "id": "4523e8b7-ee4f-4ad5-967f-7d63d91e1348",
   "metadata": {},
   "source": [
    "# Solubility Prediction from Molecular Descriptors\n",
    "\n",
    "The following notebook will provide an introduction of how to explore datasets in Python using the [Pandas](https://pandas.pydata.org/) library, how to prune them down to the data that we need for our analysis, visualisation using [matplotlib](https://matplotlib.org/) and Pandas and finally using machine learning models from [scikit-learn](https://scikit-learn.org/stable/) to build a model which predicts solubility of a solute given the molecular descriptors of the solute and solvent.\n",
    "\n",
    "## Part 1: Dataset Exploration and Pruning\n",
    "\n",
    "The first part will be an introduction on how to explore datasets with many separate files in Python and will hopefully demonstrate the usefulness of Pandas and sane data management structures. The first thing to do will be to import the relevant Python packages used in this part of the code: we will be using Pandas and the Python [os](https://docs.python.org/3/library/os.html) standard library. As well as matplotlib for some simple visualisations."
   ]
  },
  {
   "cell_type": "code",
   "execution_count": 1,
   "id": "077b4800-f57b-42fd-a558-8ee92d279de5",
   "metadata": {},
   "outputs": [],
   "source": [
    "import os\n",
    "import pandas as pd\n",
    "import matplotlib.pyplot as plt"
   ]
  },
  {
   "cell_type": "markdown",
   "id": "38bfcae3-f380-4ae9-840a-42486ab8a2e2",
   "metadata": {
    "tags": []
   },
   "source": [
    "### Finding the Files\n",
    "\n",
    "To be able to load the files into Python you need to know where they're stored. That is, you need to know the directory (folder) structure of your filesystem. In this case, the data we are using is stored within a subdirectory of where the code is being run from. This makes locating the data somewhat easier as there is no giant path to prepend to filenames in order to point to the correct locations. All of the data we will be using is in the `solutes` subdirectory. Each file in this subdirectory contains a `.txt` file for each solute we have data for (the names of the files are the solutes) and within each file is a bunch of data corresponding to this solute being dissolved in different solvents. Each file consists of 30 columns and a variable number of rows (not all solvents were tried with all solutes).\n",
    "\n",
    "* The first 6 columns are: solvent_chem_id, solute_chem_id, solvent_name, solute_name, solute_smile, solvent_smile which are indicators of which materials are used &mdash; this will be shortened to just using the chemical IDs later.\n",
    "* Then there are the molar heat of fusion of the solute in kJ/mol and melting point of the solute in C. These descriptors are not used in model building however because they are taken from literature a not calculated directly.\n",
    "* The next column is the solubility of the solute in the solvent measured in g/100g of solvent with the log of this number next to. Then there are model predictions from Cosmo in the next two columns following the same form (these model predictions are also not used since they're bad).\n",
    "* The last 18 columns are the molecular descriptors of the solute and solvent: there are 9 for each.\n",
    "  - _a_nC = number of carbon atoms in molecule\n",
    "  - _a_nN = number of nitrogen atoms in molecule\n",
    "  - _a_nO = number of oxygen atoms in molecule\n",
    "  - _b_heavy = number of heavy bonds in molecule\n",
    "  - _b_rotN = number of rotational bonds\n",
    "  - _lip_acc = number of H acceptors\n",
    "  - _lip_don = number of H donors\n",
    "  - _ring = number of rings\n",
    "  - _TPSA = total polar surface area (measured in square Angstroms)\n",
    "  \n",
    "Despite being `.txt` files, the dataset is really in the [CSV](https://en.wikipedia.org/wiki/Comma-separated_values) (comma-separated values) format but with a tabspace delimiter. What does all that nonsense mean?\n",
    "\n",
    "CSV files are kind of like Excel files but if you were to open one in Notepad then each cell would be separated by a comma. It is essentially a big table of data but the placement of the commas tells whichever software you are using to read the table where to separate things. In this context, the comma is referred to as a *delimiter*. Commas are not the only delimiters that can be used. Another common delimiter is to use tab as the spacing between the data which is what our data has.\n",
    "\n",
    "What this means for our code is that we need to remember to include an extra argument in the function reading in the data to tell it that our delimiter is a tab and not a comma. Let's demonstrate this with an example. We will open the `triclosan.txt` file using Pandas and inspect it.\n",
    "\n",
    "For all files in our dataset we will be using the [pandas.read_csv](https://pandas.pydata.org/docs/reference/api/pandas.read_csv.html) function to load it into Python. (There also exists a [read_excel](https://pandas.pydata.org/docs/reference/api/pandas.read_excel.html) function which can be used when your data is in `.xlsx` format."
   ]
  },
  {
   "cell_type": "code",
   "execution_count": 2,
   "id": "9f48abac-a013-454f-bc3a-ab8f105c1f7b",
   "metadata": {},
   "outputs": [
    {
     "data": {
      "text/html": [
       "<div>\n",
       "<style scoped>\n",
       "    .dataframe tbody tr th:only-of-type {\n",
       "        vertical-align: middle;\n",
       "    }\n",
       "\n",
       "    .dataframe tbody tr th {\n",
       "        vertical-align: top;\n",
       "    }\n",
       "\n",
       "    .dataframe thead th {\n",
       "        text-align: right;\n",
       "    }\n",
       "</style>\n",
       "<table border=\"1\" class=\"dataframe\">\n",
       "  <thead>\n",
       "    <tr style=\"text-align: right;\">\n",
       "      <th></th>\n",
       "      <th>solvent_chem_id\\tsolute_chem_id\\tsolvent_name\\tsolute_name\\tsolute_smiles\\tsolvent_smiles\\tDHFUS_kj_mol\\tTmelt_C\\tsolubility_g_100g\\tsolubility_g_100g_log\\tcosmo_solubility_g_100g\\tcosmo_solubility_g_100g_log\\tsolute_a_nC\\tsolute_a_nN\\tsolute_a_nO\\tsolute_b_heavy\\tsolute_b_rotN\\tsolute_lip_acc\\tsolute_lip_don\\tsolute_rings\\tsolute_TPSA\\tsolvent_a_nC\\tsolvent_a_nN\\tsolvent_a_nO\\tsolvent_b_heavy\\tsolvent_b_rotN\\tsolvent_lip_acc\\tsolvent_lip_don\\tsolvent_rings\\tsolvent_TPSA</th>\n",
       "    </tr>\n",
       "  </thead>\n",
       "  <tbody>\n",
       "    <tr>\n",
       "      <th>0</th>\n",
       "      <td>66\\t1136\\tHeptane\\ttriclosan\\tClc1c(Oc2c(O)cc(...</td>\n",
       "    </tr>\n",
       "    <tr>\n",
       "      <th>1</th>\n",
       "      <td>34\\t1136\\tChloroform\\ttriclosan\\tClc1c(Oc2c(O)...</td>\n",
       "    </tr>\n",
       "  </tbody>\n",
       "</table>\n",
       "</div>"
      ],
      "text/plain": [
       "  solvent_chem_id\\tsolute_chem_id\\tsolvent_name\\tsolute_name\\tsolute_smiles\\tsolvent_smiles\\tDHFUS_kj_mol\\tTmelt_C\\tsolubility_g_100g\\tsolubility_g_100g_log\\tcosmo_solubility_g_100g\\tcosmo_solubility_g_100g_log\\tsolute_a_nC\\tsolute_a_nN\\tsolute_a_nO\\tsolute_b_heavy\\tsolute_b_rotN\\tsolute_lip_acc\\tsolute_lip_don\\tsolute_rings\\tsolute_TPSA\\tsolvent_a_nC\\tsolvent_a_nN\\tsolvent_a_nO\\tsolvent_b_heavy\\tsolvent_b_rotN\\tsolvent_lip_acc\\tsolvent_lip_don\\tsolvent_rings\\tsolvent_TPSA\n",
       "0  66\\t1136\\tHeptane\\ttriclosan\\tClc1c(Oc2c(O)cc(...                                                                                                                                                                                                                                                                                                                                                                                                                                         \n",
       "1  34\\t1136\\tChloroform\\ttriclosan\\tClc1c(Oc2c(O)...                                                                                                                                                                                                                                                                                                                                                                                                                                         "
      ]
     },
     "execution_count": 2,
     "metadata": {},
     "output_type": "execute_result"
    }
   ],
   "source": [
    "pd.read_csv(\"solutes/triclosan.txt\")"
   ]
  },
  {
   "cell_type": "markdown",
   "id": "36851c5a-1921-4cc7-88ac-5549b18a26b3",
   "metadata": {},
   "source": [
    "Notice that the structure this has been read in as is just all of the data smooshed together. This is because by default `read_csv` assumes the delimiter is a comma whereas for our data it is tab. To fix this simply do:"
   ]
  },
  {
   "cell_type": "code",
   "execution_count": 3,
   "id": "a91699fc-4d91-4af1-9ab3-c843fbdd466d",
   "metadata": {},
   "outputs": [
    {
     "data": {
      "text/html": [
       "<div>\n",
       "<style scoped>\n",
       "    .dataframe tbody tr th:only-of-type {\n",
       "        vertical-align: middle;\n",
       "    }\n",
       "\n",
       "    .dataframe tbody tr th {\n",
       "        vertical-align: top;\n",
       "    }\n",
       "\n",
       "    .dataframe thead th {\n",
       "        text-align: right;\n",
       "    }\n",
       "</style>\n",
       "<table border=\"1\" class=\"dataframe\">\n",
       "  <thead>\n",
       "    <tr style=\"text-align: right;\">\n",
       "      <th></th>\n",
       "      <th>solvent_chem_id</th>\n",
       "      <th>solute_chem_id</th>\n",
       "      <th>solvent_name</th>\n",
       "      <th>solute_name</th>\n",
       "      <th>solute_smiles</th>\n",
       "      <th>solvent_smiles</th>\n",
       "      <th>DHFUS_kj_mol</th>\n",
       "      <th>Tmelt_C</th>\n",
       "      <th>solubility_g_100g</th>\n",
       "      <th>solubility_g_100g_log</th>\n",
       "      <th>...</th>\n",
       "      <th>solute_TPSA</th>\n",
       "      <th>solvent_a_nC</th>\n",
       "      <th>solvent_a_nN</th>\n",
       "      <th>solvent_a_nO</th>\n",
       "      <th>solvent_b_heavy</th>\n",
       "      <th>solvent_b_rotN</th>\n",
       "      <th>solvent_lip_acc</th>\n",
       "      <th>solvent_lip_don</th>\n",
       "      <th>solvent_rings</th>\n",
       "      <th>solvent_TPSA</th>\n",
       "    </tr>\n",
       "  </thead>\n",
       "  <tbody>\n",
       "    <tr>\n",
       "      <th>0</th>\n",
       "      <td>66</td>\n",
       "      <td>1136</td>\n",
       "      <td>Heptane</td>\n",
       "      <td>triclosan</td>\n",
       "      <td>Clc1c(Oc2c(O)cc(Cl)cc2)ccc(Cl)c1</td>\n",
       "      <td>C(CCC)CCC</td>\n",
       "      <td>17.76</td>\n",
       "      <td>58.0</td>\n",
       "      <td>8.507522</td>\n",
       "      <td>0.929803</td>\n",
       "      <td>...</td>\n",
       "      <td>29.459999</td>\n",
       "      <td>7</td>\n",
       "      <td>0</td>\n",
       "      <td>0</td>\n",
       "      <td>6</td>\n",
       "      <td>4</td>\n",
       "      <td>0</td>\n",
       "      <td>0</td>\n",
       "      <td>0</td>\n",
       "      <td>0.0</td>\n",
       "    </tr>\n",
       "    <tr>\n",
       "      <th>1</th>\n",
       "      <td>34</td>\n",
       "      <td>1136</td>\n",
       "      <td>Chloroform</td>\n",
       "      <td>triclosan</td>\n",
       "      <td>Clc1c(Oc2c(O)cc(Cl)cc2)ccc(Cl)c1</td>\n",
       "      <td>ClC(Cl)Cl</td>\n",
       "      <td>17.76</td>\n",
       "      <td>58.0</td>\n",
       "      <td>169.944900</td>\n",
       "      <td>2.230308</td>\n",
       "      <td>...</td>\n",
       "      <td>29.459999</td>\n",
       "      <td>1</td>\n",
       "      <td>0</td>\n",
       "      <td>0</td>\n",
       "      <td>3</td>\n",
       "      <td>0</td>\n",
       "      <td>0</td>\n",
       "      <td>0</td>\n",
       "      <td>0</td>\n",
       "      <td>0.0</td>\n",
       "    </tr>\n",
       "  </tbody>\n",
       "</table>\n",
       "<p>2 rows × 30 columns</p>\n",
       "</div>"
      ],
      "text/plain": [
       "   solvent_chem_id  solute_chem_id solvent_name solute_name  \\\n",
       "0               66            1136      Heptane   triclosan   \n",
       "1               34            1136   Chloroform   triclosan   \n",
       "\n",
       "                      solute_smiles solvent_smiles  DHFUS_kj_mol  Tmelt_C  \\\n",
       "0  Clc1c(Oc2c(O)cc(Cl)cc2)ccc(Cl)c1      C(CCC)CCC         17.76     58.0   \n",
       "1  Clc1c(Oc2c(O)cc(Cl)cc2)ccc(Cl)c1      ClC(Cl)Cl         17.76     58.0   \n",
       "\n",
       "   solubility_g_100g  solubility_g_100g_log  ...  solute_TPSA  solvent_a_nC  \\\n",
       "0           8.507522               0.929803  ...    29.459999             7   \n",
       "1         169.944900               2.230308  ...    29.459999             1   \n",
       "\n",
       "   solvent_a_nN  solvent_a_nO  solvent_b_heavy  solvent_b_rotN  \\\n",
       "0             0             0                6               4   \n",
       "1             0             0                3               0   \n",
       "\n",
       "   solvent_lip_acc  solvent_lip_don  solvent_rings  solvent_TPSA  \n",
       "0                0                0              0           0.0  \n",
       "1                0                0              0           0.0  \n",
       "\n",
       "[2 rows x 30 columns]"
      ]
     },
     "execution_count": 3,
     "metadata": {},
     "output_type": "execute_result"
    }
   ],
   "source": [
    "pd.read_csv(\"solutes/triclosan.txt\", delimiter=\"\\t\")"
   ]
  },
  {
   "cell_type": "markdown",
   "id": "6e159651-3c81-402c-9cd2-be99b50699a3",
   "metadata": {},
   "source": [
    "`\\t` tells `read_csv` that the file is delimited by tabs.\n",
    "\n",
    "Two more things to note from this example:\n",
    "\n",
    "1. Earlier in the script we did `import pandas as pd` therefore to access the `read_csv` function we must specify our alias for pandas which is `pd` followed by the function which results in the call being `pd.read_csv`.\n",
    "2. The filename **must** include the folder which the data is stored in. The code is dumb, by default it will look in the current folder for a file with exactly the filename you give it and if it's not there you will get an error. Therefore you must say to the code \"It's in the solutes/ folder AND has this name.\"."
   ]
  },
  {
   "cell_type": "markdown",
   "id": "f9775e28-3b9b-4fae-9502-aea51777d99e",
   "metadata": {},
   "source": [
    "Pandas loads files in objects known as `DataFrames`. These can be thought of exactly like Excel documents (which they are designed to mimic) in that they have column names and row numbers and certain subsets of the data can be accessed.\n",
    "\n",
    "Now an important thing to note is that this data must be loaded into a variable in Python otherwise after the cell is executed it is just thrown away. e.g. if I created a new cell then I would not be able to access the Triclosan data unless I did something like the following"
   ]
  },
  {
   "cell_type": "code",
   "execution_count": 4,
   "id": "2a9c2d54-d6ad-477b-84ba-60a084077c27",
   "metadata": {},
   "outputs": [],
   "source": [
    "df = pd.read_csv(\"solutes/triclosan.txt\", delimiter=\"\\t\")"
   ]
  },
  {
   "cell_type": "markdown",
   "id": "b95bec79-f710-45f2-b3c5-2df8e93e8e0f",
   "metadata": {},
   "source": [
    "Now the variable `df` contains the DataFrame."
   ]
  },
  {
   "cell_type": "code",
   "execution_count": 9,
   "id": "2e407d04-c358-4754-a277-519792956072",
   "metadata": {},
   "outputs": [
    {
     "data": {
      "text/html": [
       "<div>\n",
       "<style scoped>\n",
       "    .dataframe tbody tr th:only-of-type {\n",
       "        vertical-align: middle;\n",
       "    }\n",
       "\n",
       "    .dataframe tbody tr th {\n",
       "        vertical-align: top;\n",
       "    }\n",
       "\n",
       "    .dataframe thead th {\n",
       "        text-align: right;\n",
       "    }\n",
       "</style>\n",
       "<table border=\"1\" class=\"dataframe\">\n",
       "  <thead>\n",
       "    <tr style=\"text-align: right;\">\n",
       "      <th></th>\n",
       "      <th>solvent_chem_id</th>\n",
       "      <th>solute_chem_id</th>\n",
       "      <th>solvent_name</th>\n",
       "      <th>solute_name</th>\n",
       "      <th>solute_smiles</th>\n",
       "      <th>solvent_smiles</th>\n",
       "      <th>DHFUS_kj_mol</th>\n",
       "      <th>Tmelt_C</th>\n",
       "      <th>solubility_g_100g</th>\n",
       "      <th>solubility_g_100g_log</th>\n",
       "      <th>...</th>\n",
       "      <th>solute_TPSA</th>\n",
       "      <th>solvent_a_nC</th>\n",
       "      <th>solvent_a_nN</th>\n",
       "      <th>solvent_a_nO</th>\n",
       "      <th>solvent_b_heavy</th>\n",
       "      <th>solvent_b_rotN</th>\n",
       "      <th>solvent_lip_acc</th>\n",
       "      <th>solvent_lip_don</th>\n",
       "      <th>solvent_rings</th>\n",
       "      <th>solvent_TPSA</th>\n",
       "    </tr>\n",
       "  </thead>\n",
       "  <tbody>\n",
       "    <tr>\n",
       "      <th>0</th>\n",
       "      <td>66</td>\n",
       "      <td>1136</td>\n",
       "      <td>Heptane</td>\n",
       "      <td>triclosan</td>\n",
       "      <td>Clc1c(Oc2c(O)cc(Cl)cc2)ccc(Cl)c1</td>\n",
       "      <td>C(CCC)CCC</td>\n",
       "      <td>17.76</td>\n",
       "      <td>58.0</td>\n",
       "      <td>8.507522</td>\n",
       "      <td>0.929803</td>\n",
       "      <td>...</td>\n",
       "      <td>29.459999</td>\n",
       "      <td>7</td>\n",
       "      <td>0</td>\n",
       "      <td>0</td>\n",
       "      <td>6</td>\n",
       "      <td>4</td>\n",
       "      <td>0</td>\n",
       "      <td>0</td>\n",
       "      <td>0</td>\n",
       "      <td>0.0</td>\n",
       "    </tr>\n",
       "    <tr>\n",
       "      <th>1</th>\n",
       "      <td>34</td>\n",
       "      <td>1136</td>\n",
       "      <td>Chloroform</td>\n",
       "      <td>triclosan</td>\n",
       "      <td>Clc1c(Oc2c(O)cc(Cl)cc2)ccc(Cl)c1</td>\n",
       "      <td>ClC(Cl)Cl</td>\n",
       "      <td>17.76</td>\n",
       "      <td>58.0</td>\n",
       "      <td>169.944900</td>\n",
       "      <td>2.230308</td>\n",
       "      <td>...</td>\n",
       "      <td>29.459999</td>\n",
       "      <td>1</td>\n",
       "      <td>0</td>\n",
       "      <td>0</td>\n",
       "      <td>3</td>\n",
       "      <td>0</td>\n",
       "      <td>0</td>\n",
       "      <td>0</td>\n",
       "      <td>0</td>\n",
       "      <td>0.0</td>\n",
       "    </tr>\n",
       "  </tbody>\n",
       "</table>\n",
       "<p>2 rows × 30 columns</p>\n",
       "</div>"
      ],
      "text/plain": [
       "   solvent_chem_id  solute_chem_id solvent_name solute_name  \\\n",
       "0               66            1136      Heptane   triclosan   \n",
       "1               34            1136   Chloroform   triclosan   \n",
       "\n",
       "                      solute_smiles solvent_smiles  DHFUS_kj_mol  Tmelt_C  \\\n",
       "0  Clc1c(Oc2c(O)cc(Cl)cc2)ccc(Cl)c1      C(CCC)CCC         17.76     58.0   \n",
       "1  Clc1c(Oc2c(O)cc(Cl)cc2)ccc(Cl)c1      ClC(Cl)Cl         17.76     58.0   \n",
       "\n",
       "   solubility_g_100g  solubility_g_100g_log  ...  solute_TPSA  solvent_a_nC  \\\n",
       "0           8.507522               0.929803  ...    29.459999             7   \n",
       "1         169.944900               2.230308  ...    29.459999             1   \n",
       "\n",
       "   solvent_a_nN  solvent_a_nO  solvent_b_heavy  solvent_b_rotN  \\\n",
       "0             0             0                6               4   \n",
       "1             0             0                3               0   \n",
       "\n",
       "   solvent_lip_acc  solvent_lip_don  solvent_rings  solvent_TPSA  \n",
       "0                0                0              0           0.0  \n",
       "1                0                0              0           0.0  \n",
       "\n",
       "[2 rows x 30 columns]"
      ]
     },
     "execution_count": 9,
     "metadata": {},
     "output_type": "execute_result"
    }
   ],
   "source": [
    "df"
   ]
  },
  {
   "cell_type": "markdown",
   "id": "4ecfbcce-9671-43c9-b81e-f00fa64b655d",
   "metadata": {},
   "source": [
    "To view all of the column names in a `DataFrame` do the following:"
   ]
  },
  {
   "cell_type": "code",
   "execution_count": 43,
   "id": "a34cfa35-f03b-49a7-a288-343d84609478",
   "metadata": {},
   "outputs": [
    {
     "data": {
      "text/plain": [
       "Index(['solvent_chem_id', 'solute_chem_id', 'solvent_name', 'solute_name',\n",
       "       'solute_smiles', 'solvent_smiles', 'DHFUS_kj_mol', 'Tmelt_C',\n",
       "       'solubility_g_100g', 'solubility_g_100g_log', 'cosmo_solubility_g_100g',\n",
       "       'cosmo_solubility_g_100g_log', 'solute_a_nC', 'solute_a_nN',\n",
       "       'solute_a_nO', 'solute_b_heavy', 'solute_b_rotN', 'solute_lip_acc',\n",
       "       'solute_lip_don', 'solute_rings', 'solute_TPSA', 'solvent_a_nC',\n",
       "       'solvent_a_nN', 'solvent_a_nO', 'solvent_b_heavy', 'solvent_b_rotN',\n",
       "       'solvent_lip_acc', 'solvent_lip_don', 'solvent_rings', 'solvent_TPSA'],\n",
       "      dtype='object')"
      ]
     },
     "execution_count": 43,
     "metadata": {},
     "output_type": "execute_result"
    }
   ],
   "source": [
    "df.columns"
   ]
  },
  {
   "cell_type": "markdown",
   "id": "cd6fa3eb-c48d-49bc-a68e-6f50bcfbc2b7",
   "metadata": {},
   "source": [
    "### Exercise 0: Play About with the Data\n",
    "\n",
    "### Exercise 0.1: Loading Files\n",
    "Choose one of the other files in the solutes folder, load it in as above and view the resulting `DataFrame`."
   ]
  },
  {
   "cell_type": "code",
   "execution_count": null,
   "id": "e68576c1-612f-4c16-b02e-150e514d0034",
   "metadata": {},
   "outputs": [],
   "source": []
  },
  {
   "cell_type": "markdown",
   "id": "868d93c7-3c57-4d78-9bb6-0ee05e76c867",
   "metadata": {},
   "source": [
    "### Exercise 0.2: Accessing Data in a `DataFrame`\n",
    "\n",
    "There are ***so*** many ways to access the data within a `DataFrame` here we will just cover the 3 simplest methods but for more complicated querying please refer [here](https://pandas.pydata.org/docs/user_guide/indexing.html).\n",
    "\n",
    "This exercise will demonstrate how to retrieve one or multiple columns, one or multiple rows and single values from a `DataFrame`.\n",
    "\n",
    "Firstly, we will extract columns of data. For extracting a single column, the syntax is equivalent to viewing the entry in a dictionary. That is, it has the form `df[column_name]` where `column_name` is a string.\n",
    "\n",
    "Consider the example below:"
   ]
  },
  {
   "cell_type": "code",
   "execution_count": 25,
   "id": "84fb6398-8e00-42d8-8ac3-04afd8050712",
   "metadata": {},
   "outputs": [
    {
     "data": {
      "text/plain": [
       "0    triclosan\n",
       "1    triclosan\n",
       "Name: solute_name, dtype: object"
      ]
     },
     "execution_count": 25,
     "metadata": {},
     "output_type": "execute_result"
    }
   ],
   "source": [
    "df[\"solute_name\"]"
   ]
  },
  {
   "cell_type": "markdown",
   "id": "821502e2-278b-489c-aa54-a0b746595067",
   "metadata": {},
   "source": [
    "To extract multiple columns, simply pass a `list` of column names e.g."
   ]
  },
  {
   "cell_type": "code",
   "execution_count": 26,
   "id": "b35924b8-4f2d-4e66-959b-7ed649d9130a",
   "metadata": {},
   "outputs": [
    {
     "data": {
      "text/html": [
       "<div>\n",
       "<style scoped>\n",
       "    .dataframe tbody tr th:only-of-type {\n",
       "        vertical-align: middle;\n",
       "    }\n",
       "\n",
       "    .dataframe tbody tr th {\n",
       "        vertical-align: top;\n",
       "    }\n",
       "\n",
       "    .dataframe thead th {\n",
       "        text-align: right;\n",
       "    }\n",
       "</style>\n",
       "<table border=\"1\" class=\"dataframe\">\n",
       "  <thead>\n",
       "    <tr style=\"text-align: right;\">\n",
       "      <th></th>\n",
       "      <th>solute_name</th>\n",
       "      <th>solvent_name</th>\n",
       "    </tr>\n",
       "  </thead>\n",
       "  <tbody>\n",
       "    <tr>\n",
       "      <th>0</th>\n",
       "      <td>triclosan</td>\n",
       "      <td>Heptane</td>\n",
       "    </tr>\n",
       "    <tr>\n",
       "      <th>1</th>\n",
       "      <td>triclosan</td>\n",
       "      <td>Chloroform</td>\n",
       "    </tr>\n",
       "  </tbody>\n",
       "</table>\n",
       "</div>"
      ],
      "text/plain": [
       "  solute_name solvent_name\n",
       "0   triclosan      Heptane\n",
       "1   triclosan   Chloroform"
      ]
     },
     "execution_count": 26,
     "metadata": {},
     "output_type": "execute_result"
    }
   ],
   "source": [
    "df[[\"solute_name\", \"solvent_name\"]]"
   ]
  },
  {
   "cell_type": "markdown",
   "id": "e2a1b528-d923-462d-9796-6ecce421b2b8",
   "metadata": {},
   "source": [
    "If you want to use only the subset of the `DataFrame` this can be assigned to a variable e.g."
   ]
  },
  {
   "cell_type": "code",
   "execution_count": 28,
   "id": "ac4363f3-beb0-4801-ab89-2bf52d258fe0",
   "metadata": {},
   "outputs": [],
   "source": [
    "sub_df = df[[\"solute_name\", \"solvent_name\"]]"
   ]
  },
  {
   "cell_type": "code",
   "execution_count": 29,
   "id": "76299b41-e546-4224-8a0c-ee1c9ae6e8ee",
   "metadata": {},
   "outputs": [
    {
     "data": {
      "text/html": [
       "<div>\n",
       "<style scoped>\n",
       "    .dataframe tbody tr th:only-of-type {\n",
       "        vertical-align: middle;\n",
       "    }\n",
       "\n",
       "    .dataframe tbody tr th {\n",
       "        vertical-align: top;\n",
       "    }\n",
       "\n",
       "    .dataframe thead th {\n",
       "        text-align: right;\n",
       "    }\n",
       "</style>\n",
       "<table border=\"1\" class=\"dataframe\">\n",
       "  <thead>\n",
       "    <tr style=\"text-align: right;\">\n",
       "      <th></th>\n",
       "      <th>solute_name</th>\n",
       "      <th>solvent_name</th>\n",
       "    </tr>\n",
       "  </thead>\n",
       "  <tbody>\n",
       "    <tr>\n",
       "      <th>0</th>\n",
       "      <td>triclosan</td>\n",
       "      <td>Heptane</td>\n",
       "    </tr>\n",
       "    <tr>\n",
       "      <th>1</th>\n",
       "      <td>triclosan</td>\n",
       "      <td>Chloroform</td>\n",
       "    </tr>\n",
       "  </tbody>\n",
       "</table>\n",
       "</div>"
      ],
      "text/plain": [
       "  solute_name solvent_name\n",
       "0   triclosan      Heptane\n",
       "1   triclosan   Chloroform"
      ]
     },
     "execution_count": 29,
     "metadata": {},
     "output_type": "execute_result"
    }
   ],
   "source": [
    "sub_df"
   ]
  },
  {
   "cell_type": "markdown",
   "id": "7d6ef10e-6c2a-426c-bafd-1f500be80752",
   "metadata": {},
   "source": [
    "There two different ways to extract rows from a `DataFrame`:\n",
    "\n",
    "1. Using `df.loc[]`\n",
    "2. Using `df.iloc[]`\n",
    "\n",
    "The main difference comes in the contents of the square brackets. When using `.loc` it is expected to contain the *name* of the row whereas `.iloc` needs the *position* of the row. In our dataset they are equivalent because there are no row names but if working with data using row names the distinction is important."
   ]
  },
  {
   "cell_type": "code",
   "execution_count": 31,
   "id": "9852d6fb-9ff9-4529-9a1c-032b0cfe16ab",
   "metadata": {},
   "outputs": [
    {
     "data": {
      "text/plain": [
       "solvent_chem_id                                              66\n",
       "solute_chem_id                                             1136\n",
       "solvent_name                                            Heptane\n",
       "solute_name                                           triclosan\n",
       "solute_smiles                  Clc1c(Oc2c(O)cc(Cl)cc2)ccc(Cl)c1\n",
       "solvent_smiles                                        C(CCC)CCC\n",
       "DHFUS_kj_mol                                              17.76\n",
       "Tmelt_C                                                    58.0\n",
       "solubility_g_100g                                      8.507522\n",
       "solubility_g_100g_log                                  0.929803\n",
       "cosmo_solubility_g_100g                               152.11052\n",
       "cosmo_solubility_g_100g_log                            2.182159\n",
       "solute_a_nC                                                  12\n",
       "solute_a_nN                                                   0\n",
       "solute_a_nO                                                   2\n",
       "solute_b_heavy                                               18\n",
       "solute_b_rotN                                                 2\n",
       "solute_lip_acc                                                2\n",
       "solute_lip_don                                                1\n",
       "solute_rings                                                  2\n",
       "solute_TPSA                                           29.459999\n",
       "solvent_a_nC                                                  7\n",
       "solvent_a_nN                                                  0\n",
       "solvent_a_nO                                                  0\n",
       "solvent_b_heavy                                               6\n",
       "solvent_b_rotN                                                4\n",
       "solvent_lip_acc                                               0\n",
       "solvent_lip_don                                               0\n",
       "solvent_rings                                                 0\n",
       "solvent_TPSA                                                0.0\n",
       "Name: 0, dtype: object"
      ]
     },
     "execution_count": 31,
     "metadata": {},
     "output_type": "execute_result"
    }
   ],
   "source": [
    "df.loc[0] # this will extract the first row of the `DataFrame` as shown below"
   ]
  },
  {
   "cell_type": "code",
   "execution_count": 32,
   "id": "1a7cf682-84c5-4de1-924b-0ce97d797a5f",
   "metadata": {},
   "outputs": [
    {
     "data": {
      "text/plain": [
       "solvent_chem_id                                              66\n",
       "solute_chem_id                                             1136\n",
       "solvent_name                                            Heptane\n",
       "solute_name                                           triclosan\n",
       "solute_smiles                  Clc1c(Oc2c(O)cc(Cl)cc2)ccc(Cl)c1\n",
       "solvent_smiles                                        C(CCC)CCC\n",
       "DHFUS_kj_mol                                              17.76\n",
       "Tmelt_C                                                    58.0\n",
       "solubility_g_100g                                      8.507522\n",
       "solubility_g_100g_log                                  0.929803\n",
       "cosmo_solubility_g_100g                               152.11052\n",
       "cosmo_solubility_g_100g_log                            2.182159\n",
       "solute_a_nC                                                  12\n",
       "solute_a_nN                                                   0\n",
       "solute_a_nO                                                   2\n",
       "solute_b_heavy                                               18\n",
       "solute_b_rotN                                                 2\n",
       "solute_lip_acc                                                2\n",
       "solute_lip_don                                                1\n",
       "solute_rings                                                  2\n",
       "solute_TPSA                                           29.459999\n",
       "solvent_a_nC                                                  7\n",
       "solvent_a_nN                                                  0\n",
       "solvent_a_nO                                                  0\n",
       "solvent_b_heavy                                               6\n",
       "solvent_b_rotN                                                4\n",
       "solvent_lip_acc                                               0\n",
       "solvent_lip_don                                               0\n",
       "solvent_rings                                                 0\n",
       "solvent_TPSA                                                0.0\n",
       "Name: 0, dtype: object"
      ]
     },
     "execution_count": 32,
     "metadata": {},
     "output_type": "execute_result"
    }
   ],
   "source": [
    "df.iloc[0] # this will also show the first row of the `DataFrame`"
   ]
  },
  {
   "cell_type": "markdown",
   "id": "68d5c091-7af1-4785-8f43-f0a70f09b011",
   "metadata": {},
   "source": [
    "To extract a single element from a `DataFrame` I find it easiest to use `.loc`. Once a row is extracted we can follow this up by using the column name to extract the value e.g."
   ]
  },
  {
   "cell_type": "code",
   "execution_count": 33,
   "id": "c9ccef74-0f42-4a09-beb0-f0ebc6d37dcc",
   "metadata": {},
   "outputs": [
    {
     "data": {
      "text/plain": [
       "'triclosan'"
      ]
     },
     "execution_count": 33,
     "metadata": {},
     "output_type": "execute_result"
    }
   ],
   "source": [
    "df.loc[0,\"solute_name\"]"
   ]
  },
  {
   "cell_type": "markdown",
   "id": "0f3f3a4f-82d5-45fa-810f-8f39159c80be",
   "metadata": {},
   "source": [
    "Now to familiarise yourself with extracting data from a `DataFrame`:\n",
    "\n",
    "a) Create a `DataFrame` containing the `solvent_chem_id` and `solvent_a_nC` columns."
   ]
  },
  {
   "cell_type": "code",
   "execution_count": null,
   "id": "be04381b-521f-48ad-9ceb-4d41e3d94cdc",
   "metadata": {},
   "outputs": [],
   "source": []
  },
  {
   "cell_type": "markdown",
   "id": "a8fae807-aa4d-4999-a279-8e1942110664",
   "metadata": {},
   "source": [
    "b) Extract the first row of this new `DataFrame`."
   ]
  },
  {
   "cell_type": "code",
   "execution_count": null,
   "id": "8177d69d-33ae-4e0f-8ea5-2c5eeb3ee8e6",
   "metadata": {},
   "outputs": [],
   "source": []
  },
  {
   "cell_type": "markdown",
   "id": "b95f1271-07ac-4cf7-ac97-9b831020ddc8",
   "metadata": {},
   "source": [
    "c) Extract the number of carbons for the second solvent."
   ]
  },
  {
   "cell_type": "code",
   "execution_count": null,
   "id": "2c448e19-8c8d-4a01-b6a2-08d882284daf",
   "metadata": {},
   "outputs": [],
   "source": []
  },
  {
   "cell_type": "markdown",
   "id": "f24fa900-c7f3-438b-acd0-bfc36a68a451",
   "metadata": {},
   "source": [
    "### Exercise 0.3: Plotting with Pandas and matplotlib\n",
    "\n",
    "Pandas' `DataFrame` has nice built-in [plotting options](https://pandas.pydata.org/docs/reference/api/pandas.DataFrame.plot.html) (and some good examples [here](https://datatofish.com/plot-dataframe-pandas/)). The main package for making plots in Python is called `matplotlib` and the Pandas plotting method works as a one-line replacement (with nearly as much flexibility) for data in your `DataFrame`.\n",
    "\n",
    "Consider the following example:"
   ]
  },
  {
   "cell_type": "code",
   "execution_count": 34,
   "id": "535c8bd8-4ded-4fb1-95a6-9850358b8c36",
   "metadata": {},
   "outputs": [
    {
     "data": {
      "text/plain": [
       "<AxesSubplot:xlabel='Number of Solvent Carbons', ylabel='Solubility [g/100g]'>"
      ]
     },
     "execution_count": 34,
     "metadata": {},
     "output_type": "execute_result"
    },
    {
     "data": {
      "image/png": "[encoded data removed]",
      "text/plain": [
       "<Figure size 432x288 with 1 Axes>"
      ]
     },
     "metadata": {
      "needs_background": "light"
     },
     "output_type": "display_data"
    }
   ],
   "source": [
    "df.plot(x = \"solvent_a_nC\", y = \"solubility_g_100g\", kind=\"scatter\", xlabel=\"Number of Solvent Carbons\", ylabel=\"Solubility [g/100g]\")"
   ]
  },
  {
   "cell_type": "markdown",
   "id": "cf7a69e8-4df0-4381-8713-75e55d0a45c2",
   "metadata": {},
   "source": [
    "and its `matplotlib` equivalent:"
   ]
  },
  {
   "cell_type": "code",
   "execution_count": 36,
   "id": "7957d5ef-c46b-44c4-a305-c799655824ea",
   "metadata": {},
   "outputs": [
    {
     "data": {
      "text/plain": [
       "Text(0.5, 0, 'Number of Solvent Carbons')"
      ]
     },
     "execution_count": 36,
     "metadata": {},
     "output_type": "execute_result"
    },
    {
     "data": {
      "image/png": "[encoded data removed]",
      "text/plain": [
       "<Figure size 432x288 with 1 Axes>"
      ]
     },
     "metadata": {
      "needs_background": "light"
     },
     "output_type": "display_data"
    }
   ],
   "source": [
    "plt.figure()\n",
    "plt.scatter(df[\"solvent_a_nC\"], df[\"solubility_g_100g\"])\n",
    "plt.ylabel(\"Solubility [g/100g]\")\n",
    "plt.xlabel(\"Number of Solvent Carbons\")"
   ]
  },
  {
   "cell_type": "markdown",
   "id": "98a49147-3332-47ce-898f-91f673331fff",
   "metadata": {},
   "source": [
    "This is not to say that `matplotlib` shouldn't be used, it definitely should when you're not using `DataFrame`s, there is just an easier way to plot when using `DataFrame`s."
   ]
  },
  {
   "cell_type": "markdown",
   "id": "518a2239-5762-4e4d-90c9-07e31fbe8d00",
   "metadata": {},
   "source": [
    "Create a bar chart looking at the number of carbons for each solvent."
   ]
  },
  {
   "cell_type": "code",
   "execution_count": null,
   "id": "311cef15-2cfe-4898-9366-8d57a285eae3",
   "metadata": {},
   "outputs": [],
   "source": []
  },
  {
   "cell_type": "markdown",
   "id": "9e4cc549-e86e-42e0-b64a-eca9b4dd45d1",
   "metadata": {},
   "source": [
    "### Exercise 1: Generating a List of Filenames\n",
    "\n",
    "A very useful function in the `os` library is `listdir`. This will list the contents of a directory given the path provided to it as a string. For example,"
   ]
  },
  {
   "cell_type": "code",
   "execution_count": 8,
   "id": "605c2155-abb1-46b7-8a45-b2f3903fd667",
   "metadata": {},
   "outputs": [
    {
     "data": {
      "text/plain": [
       "['(2R,3R,4R,5S)-hexane-1,2,3,4,5,6-hexol.txt',\n",
       " '(2S)-5,7-dihydroxy-2-(3-hydroxy-4-methoxyphenyl)-2,3-dihydrochromen-4-one.txt',\n",
       " '(benzyldisulfanyl)methylbenzene.txt',\n",
       " '.ipynb_checkpoints',\n",
       " '1,3-benzenedicarboxylic acid.txt',\n",
       " '2,2-dichloro-n-((1s,2r)-1-(fluoromethyl)-2-hydroxy-2-(4-(methylsulfonyl)phenyl)ethyl)acetamide.txt',\n",
       " '2-(2-bromoethoxy)-1,3,5-trichlorobenzene.txt',\n",
       " '2-aminoacetic acid.txt',\n",
       " '2-aminopyridine.txt',\n",
       " '2-hydroxy-1,2-diphenylethanone.txt',\n",
       " '2-hydroxypropane-1,2,3-tricarboxylic acid.txt',\n",
       " '2-[(6-oxobenzo[c][2,1]benzoxaphosphinin-6-yl)methyl]butanedioic acid.txt',\n",
       " '3,4-dimethoxybenzoic acid.txt',\n",
       " '3-((6-O-(6-deoxy-alpha-L-mannopyranosyl)-beta-D-glucopyranosyl)oxy)-2-(3,4-dihydroxyphenol)-5,7-dihydroxy-4H-1-benzopyran-4-one.txt',\n",
       " '3-pyridinecarboxylic acid.txt',\n",
       " '3-[bis(3-hydroxypropyl)phosphoryl]propan-1-ol.txt',\n",
       " '311-03-5.txt',\n",
       " '4,5-bis(hydroxymethyl)-2-methylpyridin-3-ol.txt',\n",
       " '4-aminobenzoic acid.txt',\n",
       " '4-hydroxy-3-methoxybenzaldehyde.txt',\n",
       " '4-Hydroxybenzoic acid.txt',\n",
       " 'acetanilide.txt',\n",
       " 'ascorbic acid.txt',\n",
       " 'Benzoic acid.txt',\n",
       " 'butylparaben.txt',\n",
       " 'carbamazepine.txt',\n",
       " 'd-(-)fructose.txt',\n",
       " 'diclofenac.txt',\n",
       " 'diphenylamine.txt',\n",
       " 'frambinone.txt',\n",
       " 'fumaric acid.txt',\n",
       " 'glibenclamide.txt',\n",
       " 'haloperidol.txt',\n",
       " 'hexanedioic acid.txt',\n",
       " 'hydrocortisone.txt',\n",
       " 'hydroquinone.txt',\n",
       " 'ibuprofen.txt',\n",
       " 'indomethacin.txt',\n",
       " 'iodopropynyl butylcarbamate.txt',\n",
       " 'isoniazid.txt',\n",
       " 'ketoprofen.txt',\n",
       " 'lamivudine.txt',\n",
       " 'lovastatin.txt',\n",
       " 'maltol.txt',\n",
       " 'mefenamic acid.txt',\n",
       " 'metacetamol.txt',\n",
       " 'n-(1-oxopentyl)-n-((2-(1h-tetrazol-5-yl)(1,1-biphenyl)-4-yl)methyl)-l-valine.txt',\n",
       " 'N-(pyridin-3-ylmethylideneamino)pyridin-2-amine.txt',\n",
       " 'naproxen.txt',\n",
       " 'octadecanoic acid.txt',\n",
       " 'oxolane-2,5-dione.txt',\n",
       " 'paracetamol.txt',\n",
       " 'phenacetin.txt',\n",
       " 'phenylphosphinic acid.txt',\n",
       " 'piroxicam.txt',\n",
       " 'propylparaben.txt',\n",
       " 'pyrrolidine-2,5-dione.txt',\n",
       " 'quercetin.txt',\n",
       " 'salicylic acid.txt',\n",
       " 'sclareol.txt',\n",
       " 'sulfadiazine.txt',\n",
       " 'sulfamethoxazole.txt',\n",
       " 'sulfamethoxypyridazine.txt',\n",
       " 'Sulfapyridine.txt',\n",
       " 'Testosterone propionate.txt',\n",
       " 'Testosterone.txt',\n",
       " 'theophylline.txt',\n",
       " 'triclosan.txt',\n",
       " 'trimethoprim.txt']"
      ]
     },
     "execution_count": 8,
     "metadata": {},
     "output_type": "execute_result"
    }
   ],
   "source": [
    "os.listdir(\"solutes/\")"
   ]
  },
  {
   "cell_type": "markdown",
   "id": "3de3c142-9596-4c39-8750-e332e65b2cfe",
   "metadata": {},
   "source": [
    "N.B. since we just directly imported `os` we must do `os.listdir` to use the function.\n",
    "\n",
    "As seen above we have created a list of the filenames. This is only half the battle of wanting to read in the data however as we know that the filename given to `read_csv` must also include the path to the file.\n",
    "\n",
    "Using either a `for` loop or a list comprehension, generate the list of filenames needed for `read_csv` to be able to open the data e.g. where `os.listdir` returns `triclosan.txt` we would like it to read `solutes/triclosan.txt` in our list. Remember strings can be added so that `\"solutes/\" + \"triclosan.txt\"` = `\"solutes/triclosan.txt\"`."
   ]
  },
  {
   "cell_type": "code",
   "execution_count": null,
   "id": "b330bfbc-f300-4805-a07e-332f65ca3665",
   "metadata": {},
   "outputs": [],
   "source": []
  },
  {
   "cell_type": "markdown",
   "id": "6d237a6a-f8e5-4fdd-aed9-2373d55a4166",
   "metadata": {},
   "source": [
    "### Exercise 2: Reading in the Data to a List of DataFrames\n",
    "\n",
    "Similarly to Exercise 3 in the `intro_to_python.ipynb` notebook, use either a `for` loop or a list comprehension to create a list of Pandas DataFrames for each file."
   ]
  },
  {
   "cell_type": "code",
   "execution_count": null,
   "id": "9a4c639e-6647-42e9-8915-d8fea277ce17",
   "metadata": {},
   "outputs": [],
   "source": []
  },
  {
   "cell_type": "markdown",
   "id": "d8e35127-d275-4c45-bc9d-c9d112960dc0",
   "metadata": {},
   "source": [
    "### Exercise 3: Agglomerating the Data into a Large DataFrame\n",
    "\n",
    "Multiple `DataFrame`s can be combined easily using the `pd.concat` function e.g. [here](https://stackoverflow.com/questions/32444138/concatenate-a-list-of-pandas-dataframes-together). Since the columns for all of our files are the same this can be used pretty much out of the box, however use the argument `ignore_index=True`. This counts the rows of the new, bigger data frame from 0 to number of rows - 1. (It is `False` by default which means when you get to each new file added to the list the counting starts from 0 for that file meaning if you were to do `.loc[0]` it would return an error)."
   ]
  },
  {
   "cell_type": "code",
   "execution_count": null,
   "id": "f92f53fd-db98-4c83-aad0-52eafb325c7d",
   "metadata": {},
   "outputs": [],
   "source": []
  },
  {
   "cell_type": "markdown",
   "id": "d7cd0e09-d153-4d02-89db-5feee3a5700a",
   "metadata": {},
   "source": [
    "### Exercise 4: Removal of Unwanted Columns\n",
    "\n",
    "There are 30 columns in our dataset and 633 rows. Not all of the columns will be useful for the analysis of the data we will do this afternoon. As such we can create a new `DataFrame` omitting these columns to be overencumbered with unnecessary data. Particularly, we do not need the `solvent_chem_id`, `solute_chem_id`, `solute_smiles`, `solvent_smiles`, `DHFUS_kj_mol`, `Tmelt_C`, `solubility_g_100g_log`, `cosmo_solubility_g_100g` and `cosmo_solubility_g_100g_log` columns. This is done using the `.drop` function e.g. say we wanted to get rid of only the `solvent_chem_id` and `solute_chem_id` columns we could do the following"
   ]
  },
  {
   "cell_type": "code",
   "execution_count": 49,
   "id": "048aff1c-cd35-4a11-8f10-795885081c20",
   "metadata": {},
   "outputs": [],
   "source": [
    "new_df = df.drop(columns=[\"solvent_chem_id\", \"solute_chem_id\"])"
   ]
  },
  {
   "cell_type": "code",
   "execution_count": 50,
   "id": "ac5aaa1d-9135-4ac1-8c00-59843da64326",
   "metadata": {},
   "outputs": [
    {
     "data": {
      "text/html": [
       "<div>\n",
       "<style scoped>\n",
       "    .dataframe tbody tr th:only-of-type {\n",
       "        vertical-align: middle;\n",
       "    }\n",
       "\n",
       "    .dataframe tbody tr th {\n",
       "        vertical-align: top;\n",
       "    }\n",
       "\n",
       "    .dataframe thead th {\n",
       "        text-align: right;\n",
       "    }\n",
       "</style>\n",
       "<table border=\"1\" class=\"dataframe\">\n",
       "  <thead>\n",
       "    <tr style=\"text-align: right;\">\n",
       "      <th></th>\n",
       "      <th>solvent_name</th>\n",
       "      <th>solute_name</th>\n",
       "      <th>solute_smiles</th>\n",
       "      <th>solvent_smiles</th>\n",
       "      <th>DHFUS_kj_mol</th>\n",
       "      <th>Tmelt_C</th>\n",
       "      <th>solubility_g_100g</th>\n",
       "      <th>solubility_g_100g_log</th>\n",
       "      <th>cosmo_solubility_g_100g</th>\n",
       "      <th>cosmo_solubility_g_100g_log</th>\n",
       "      <th>...</th>\n",
       "      <th>solute_TPSA</th>\n",
       "      <th>solvent_a_nC</th>\n",
       "      <th>solvent_a_nN</th>\n",
       "      <th>solvent_a_nO</th>\n",
       "      <th>solvent_b_heavy</th>\n",
       "      <th>solvent_b_rotN</th>\n",
       "      <th>solvent_lip_acc</th>\n",
       "      <th>solvent_lip_don</th>\n",
       "      <th>solvent_rings</th>\n",
       "      <th>solvent_TPSA</th>\n",
       "    </tr>\n",
       "  </thead>\n",
       "  <tbody>\n",
       "    <tr>\n",
       "      <th>0</th>\n",
       "      <td>Heptane</td>\n",
       "      <td>triclosan</td>\n",
       "      <td>Clc1c(Oc2c(O)cc(Cl)cc2)ccc(Cl)c1</td>\n",
       "      <td>C(CCC)CCC</td>\n",
       "      <td>17.76</td>\n",
       "      <td>58.0</td>\n",
       "      <td>8.507522</td>\n",
       "      <td>0.929803</td>\n",
       "      <td>152.11052</td>\n",
       "      <td>2.182159</td>\n",
       "      <td>...</td>\n",
       "      <td>29.459999</td>\n",
       "      <td>7</td>\n",
       "      <td>0</td>\n",
       "      <td>0</td>\n",
       "      <td>6</td>\n",
       "      <td>4</td>\n",
       "      <td>0</td>\n",
       "      <td>0</td>\n",
       "      <td>0</td>\n",
       "      <td>0.0</td>\n",
       "    </tr>\n",
       "    <tr>\n",
       "      <th>1</th>\n",
       "      <td>Chloroform</td>\n",
       "      <td>triclosan</td>\n",
       "      <td>Clc1c(Oc2c(O)cc(Cl)cc2)ccc(Cl)c1</td>\n",
       "      <td>ClC(Cl)Cl</td>\n",
       "      <td>17.76</td>\n",
       "      <td>58.0</td>\n",
       "      <td>169.944900</td>\n",
       "      <td>2.230308</td>\n",
       "      <td>255.95583</td>\n",
       "      <td>2.408165</td>\n",
       "      <td>...</td>\n",
       "      <td>29.459999</td>\n",
       "      <td>1</td>\n",
       "      <td>0</td>\n",
       "      <td>0</td>\n",
       "      <td>3</td>\n",
       "      <td>0</td>\n",
       "      <td>0</td>\n",
       "      <td>0</td>\n",
       "      <td>0</td>\n",
       "      <td>0.0</td>\n",
       "    </tr>\n",
       "  </tbody>\n",
       "</table>\n",
       "<p>2 rows × 28 columns</p>\n",
       "</div>"
      ],
      "text/plain": [
       "  solvent_name solute_name                     solute_smiles solvent_smiles  \\\n",
       "0      Heptane   triclosan  Clc1c(Oc2c(O)cc(Cl)cc2)ccc(Cl)c1      C(CCC)CCC   \n",
       "1   Chloroform   triclosan  Clc1c(Oc2c(O)cc(Cl)cc2)ccc(Cl)c1      ClC(Cl)Cl   \n",
       "\n",
       "   DHFUS_kj_mol  Tmelt_C  solubility_g_100g  solubility_g_100g_log  \\\n",
       "0         17.76     58.0           8.507522               0.929803   \n",
       "1         17.76     58.0         169.944900               2.230308   \n",
       "\n",
       "   cosmo_solubility_g_100g  cosmo_solubility_g_100g_log  ...  solute_TPSA  \\\n",
       "0                152.11052                     2.182159  ...    29.459999   \n",
       "1                255.95583                     2.408165  ...    29.459999   \n",
       "\n",
       "   solvent_a_nC  solvent_a_nN  solvent_a_nO  solvent_b_heavy  solvent_b_rotN  \\\n",
       "0             7             0             0                6               4   \n",
       "1             1             0             0                3               0   \n",
       "\n",
       "   solvent_lip_acc  solvent_lip_don  solvent_rings  solvent_TPSA  \n",
       "0                0                0              0           0.0  \n",
       "1                0                0              0           0.0  \n",
       "\n",
       "[2 rows x 28 columns]"
      ]
     },
     "execution_count": 50,
     "metadata": {},
     "output_type": "execute_result"
    }
   ],
   "source": [
    "new_df"
   ]
  },
  {
   "cell_type": "markdown",
   "id": "8f998ec7-b7a1-440f-9d49-87034016224c",
   "metadata": {},
   "source": [
    "Now do the same but for **all** of the columns we want to remove."
   ]
  },
  {
   "cell_type": "code",
   "execution_count": null,
   "id": "fe5d2998-8787-4981-88f7-133307344ca8",
   "metadata": {},
   "outputs": [],
   "source": []
  },
  {
   "cell_type": "markdown",
   "id": "27b0d78d-1227-49bf-9e1a-4d4811f92714",
   "metadata": {},
   "source": [
    "### Exercise 5: Saving to a New File\n",
    "\n",
    "Saving a `DataFrame` to an Excel file is easy thankfully and can be achieved by using the `.to_excel` function (there are a bunch of different ways to save a `DataFrame` see [here](https://pandas.pydata.org/docs/reference/io.html)). e.g.\n",
    "\n",
    "```\n",
    "new_df.to_excel(\"excel_filename.xlsx\", index = False)\n",
    "```\n",
    "\n",
    "Remember to use `index = False` when saving the file if the row names are unimportant/do not exist, otherwise Pandas will create a new column with just these index numbers in that don't mean anything."
   ]
  },
  {
   "cell_type": "code",
   "execution_count": null,
   "id": "ba82f190-cc1f-4fab-b848-0a1ae3cf5dfe",
   "metadata": {},
   "outputs": [],
   "source": []
  }
 ],
 "metadata": {
  "kernelspec": {
   "display_name": "Python 3 (ipykernel)",
   "language": "python",
   "name": "python3"
  },
  "language_info": {
   "codemirror_mode": {
    "name": "ipython",
    "version": 3
   },
   "file_extension": ".py",
   "mimetype": "text/x-python",
   "name": "python",
   "nbconvert_exporter": "python",
   "pygments_lexer": "ipython3",
   "version": "3.9.12"
  }
 },
 "nbformat": 4,
 "nbformat_minor": 5
}
